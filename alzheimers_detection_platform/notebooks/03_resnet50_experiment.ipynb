{
 "cells": [
  {
   "cell_type": "code",
   "execution_count": 31,
   "id": "953d6082",
   "metadata": {},
   "outputs": [],
   "source": [
    "import numpy as np\n",
    "import pandas as pd\n",
    "import matplotlib.pyplot as plt\n",
    "import seaborn as sns\n",
    "from sklearn.model_selection import train_test_split\n",
    "from sklearn.preprocessing import StandardScaler\n",
    "from sklearn.preprocessing import LabelEncoder\n",
    "import tensorflow as tf\n",
    "from tensorflow import keras\n",
    "from tensorflow.keras import layers\n",
    "from tensorflow.keras import losses\n",
    "from tensorflow.keras.datasets import cifar10\n",
    "from tensorflow.keras.regularizers import l1_l2\n",
    "from tensorflow.keras.models import Sequential\n",
    "from tensorflow.keras.layers import Conv2D, MaxPooling2D, Flatten, Dense, Dropout\n",
    "from tensorflow.keras.optimizers import Adam, SGD, Nadam, Adamax, Adagrad, RMSprop\n",
    "from tensorflow.keras.callbacks import ReduceLROnPlateau, ModelCheckpoint\n",
    "\n"
   ]
  },
  {
   "cell_type": "code",
   "execution_count": 32,
   "id": "ec428361",
   "metadata": {},
   "outputs": [],
   "source": [
    "import os\n",
    "base_dir =\"C:/Users/chundie/Desktop/OriginalDataset\"\n",
    "img_size = (224, 224)"
   ]
  },
  {
   "cell_type": "code",
   "execution_count": 33,
   "id": "78df9d66",
   "metadata": {},
   "outputs": [],
   "source": [
    "x=[]\n",
    "y=[]"
   ]
  },
  {
   "cell_type": "code",
   "execution_count": 34,
   "id": "20467267",
   "metadata": {},
   "outputs": [],
   "source": [
    "from tensorflow.keras.utils import load_img, img_to_array\n",
    "for label in os.listdir(base_dir):\n",
    "    label_path = os.path.join(base_dir, label)\n",
    "    if os.path.isdir(label_path):\n",
    "        for file in os.listdir(label_path):\n",
    "            file_path = os.path.join(label_path, file)\n",
    "            try:\n",
    "                # Chargement de l'image et redimensionnement\n",
    "                img = load_img(file_path, target_size=img_size)\n",
    "                img_array = img_to_array(img) / 255.0  # Normalisation\n",
    "                x.append(img_array)\n",
    "                y.append(label)  # Nom du dossier = classe\n",
    "            except Exception as e:\n",
    "                print(f\"Erreur avec {file_path} : {e}\")"
   ]
  },
  {
   "cell_type": "code",
   "execution_count": 35,
   "id": "8049cf59",
   "metadata": {},
   "outputs": [],
   "source": [
    "# Conversion en numpy array\n",
    "x = np.array(x, dtype=\"float32\")\n",
    "y = np.array(y)"
   ]
  },
  {
   "cell_type": "code",
   "execution_count": 36,
   "id": "41ffb0d1",
   "metadata": {},
   "outputs": [],
   "source": [
    "# Encodage des labels\n",
    "le = LabelEncoder()\n",
    "y_encoded = le.fit_transform(y)\n"
   ]
  },
  {
   "cell_type": "code",
   "execution_count": 37,
   "id": "29c70ec9",
   "metadata": {},
   "outputs": [
    {
     "data": {
      "text/plain": [
       "(6400, 224, 224, 3)"
      ]
     },
     "execution_count": 37,
     "metadata": {},
     "output_type": "execute_result"
    }
   ],
   "source": [
    "x.shape"
   ]
  },
  {
   "cell_type": "code",
   "execution_count": 38,
   "id": "3ce90d36",
   "metadata": {},
   "outputs": [
    {
     "data": {
      "text/plain": [
       "(6400,)"
      ]
     },
     "execution_count": 38,
     "metadata": {},
     "output_type": "execute_result"
    }
   ],
   "source": [
    "y.shape"
   ]
  },
  {
   "cell_type": "code",
   "execution_count": 39,
   "id": "cb01665a",
   "metadata": {},
   "outputs": [],
   "source": [
    "from sklearn.model_selection import train_test_split\n",
    "\n",
    "x_train, x_test, y_train, y_test = train_test_split(x, y, train_size=0.85, random_state=42)\n"
   ]
  },
  {
   "cell_type": "code",
   "execution_count": 40,
   "id": "4311bfb0",
   "metadata": {},
   "outputs": [],
   "source": [
    "x_train=x_train[:1000]\n",
    "y_train=y_train[:1000]\n",
    "x_train=x_train.astype('float32')\n",
    "x_train = tf.image.resize(x_train, [224, 224]).numpy()"
   ]
  },
  {
   "cell_type": "code",
   "execution_count": 41,
   "id": "4e42b170",
   "metadata": {},
   "outputs": [],
   "source": [
    "y_train = le.fit_transform(y_train)\n",
    "y_test = le.fit_transform(y_test)"
   ]
  },
  {
   "cell_type": "code",
   "execution_count": 42,
   "id": "24548f7b",
   "metadata": {},
   "outputs": [
    {
     "data": {
      "text/plain": [
       "array([3, 3, 2, 2, 2, 3, 3, 2, 2, 3, 3, 2, 2, 2, 2, 2, 3, 2, 2, 2, 3, 3,\n",
       "       3, 3, 3, 3, 3, 3, 3, 3, 3, 3, 3, 3, 2, 3, 2, 0, 0, 3, 2, 3, 2, 3,\n",
       "       2, 0, 0, 2, 2, 2, 2, 2, 2, 0, 3, 2, 3, 2, 2, 3, 0, 0, 2, 2, 2, 2,\n",
       "       2, 2, 2, 0, 0, 2, 2, 2, 3, 3, 3, 2, 2, 2, 3, 2, 2, 2, 3, 3, 2, 2,\n",
       "       2, 0, 2, 2, 3, 3, 2, 0, 0, 3, 2, 3, 3, 2, 0, 0, 2, 2, 3, 0, 2, 2,\n",
       "       0, 0, 2, 3, 3, 2, 3, 3, 2, 2, 3, 2, 3, 3, 0, 2, 2, 0, 3, 3, 0, 2,\n",
       "       0, 2, 3, 2, 3, 0, 2, 2, 2, 3, 2, 3, 3, 3, 0, 2, 2, 3, 2, 3, 2, 2,\n",
       "       0, 2, 0, 2, 3, 0, 0, 2, 2, 2, 0, 0, 3, 2, 0, 3, 0, 2, 3, 3, 2, 2,\n",
       "       0, 2, 2, 3, 3, 3, 3, 3, 2, 3, 2, 2, 3, 2, 2, 3, 2, 3, 2, 3, 3, 0,\n",
       "       2, 0, 2, 2, 2, 2, 2, 0, 3, 3, 2, 3, 2, 2, 0, 3, 2, 2, 2, 2, 3, 2,\n",
       "       3, 0, 2, 3, 3, 3, 3, 3, 2, 3, 2, 3, 2, 2, 2, 2, 2, 2, 0, 0, 2, 2,\n",
       "       0, 0, 2, 2, 2, 0, 3, 3, 3, 2, 3, 3, 3, 2, 2, 2, 3, 3, 2, 2, 2, 3,\n",
       "       0, 3, 2, 2, 0, 0, 0, 3, 3, 3, 3, 2, 1, 0, 2, 3, 0, 2, 0, 3, 3, 2,\n",
       "       3, 3, 3, 0, 3, 2, 3, 3, 3, 3, 3, 3, 2, 3, 2, 3, 2, 2, 3, 3, 0, 2,\n",
       "       2, 1, 3, 2, 3, 0, 2, 3, 2, 2, 0, 3, 2, 2, 3, 2, 3, 3, 3, 3, 0, 3,\n",
       "       2, 3, 3, 3, 3, 1, 3, 0, 2, 2, 3, 3, 2, 2, 2, 2, 3, 0, 2, 2, 3, 0,\n",
       "       2, 2, 2, 2, 3, 2, 2, 2, 2, 2, 2, 2, 2, 3, 2, 2, 3, 2, 3, 2, 3, 0,\n",
       "       2, 2, 2, 3, 3, 0, 3, 0, 2, 2, 2, 3, 3, 3, 0, 2, 2, 2, 2, 2, 1, 2,\n",
       "       3, 3, 2, 2, 2, 3, 2, 2, 2, 2, 0, 2, 3, 2, 0, 0, 3, 2, 2, 0, 2, 2,\n",
       "       2, 3, 0, 2, 2, 2, 3, 3, 0, 2, 2, 2, 2, 2, 0, 3, 2, 2, 2, 2, 2, 3,\n",
       "       2, 2, 2, 3, 2, 0, 2, 3, 3, 2, 2, 1, 0, 3, 2, 2, 2, 3, 2, 2, 3, 2,\n",
       "       0, 0, 0, 3, 2, 0, 3, 2, 3, 2, 2, 3, 3, 2, 3, 3, 2, 0, 2, 0, 0, 2,\n",
       "       2, 2, 2, 0, 2, 2, 2, 2, 2, 3, 3, 2, 2, 2, 2, 2, 2, 2, 2, 2, 3, 2,\n",
       "       2, 3, 2, 3, 3, 3, 3, 0, 2, 2, 1, 2, 0, 3, 3, 2, 0, 3, 2, 2, 2, 2,\n",
       "       2, 2, 2, 3, 2, 3, 2, 2, 0, 3, 2, 2, 3, 2, 2, 3, 3, 3, 2, 2, 2, 0,\n",
       "       3, 0, 3, 3, 3, 3, 2, 2, 0, 3, 2, 2, 3, 2, 2, 3, 3, 3, 2, 2, 0, 2,\n",
       "       0, 2, 2, 3, 3, 2, 0, 0, 3, 3, 2, 2, 2, 3, 2, 2, 0, 3, 3, 2, 2, 2,\n",
       "       2, 3, 2, 2, 0, 3, 1, 3, 0, 2, 3, 3, 2, 2, 3, 2, 2, 3, 1, 2, 2, 2,\n",
       "       2, 2, 2, 3, 3, 2, 2, 3, 2, 2, 3, 0, 2, 2, 3, 3, 3, 3, 2, 3, 3, 3,\n",
       "       2, 3, 3, 2, 2, 3, 2, 2, 3, 2, 3, 3, 3, 2, 2, 3, 2, 3, 3, 3, 3, 3,\n",
       "       0, 0, 2, 2, 0, 0, 2, 3, 1, 2, 0, 2, 3, 3, 2, 2, 2, 2, 2, 2, 1, 3,\n",
       "       3, 0, 2, 3, 2, 2, 0, 3, 2, 2, 3, 2, 3, 2, 3, 2, 2, 2, 2, 2, 2, 0,\n",
       "       0, 3, 2, 3, 3, 3, 3, 3, 0, 2, 2, 3, 3, 2, 3, 0, 2, 2, 2, 3, 2, 3,\n",
       "       3, 3, 2, 2, 0, 3, 2, 3, 0, 0, 2, 2, 0, 2, 2, 3, 2, 2, 2, 2, 3, 3,\n",
       "       2, 2, 2, 3, 2, 0, 3, 2, 2, 3, 2, 0, 2, 2, 3, 2, 2, 3, 3, 3, 2, 2,\n",
       "       3, 2, 2, 2, 3, 2, 3, 3, 2, 2, 2, 3, 0, 3, 2, 2, 3, 2, 3, 2, 2, 0,\n",
       "       2, 2, 3, 2, 3, 2, 3, 2, 0, 3, 2, 0, 3, 3, 3, 2, 0, 2, 0, 2, 0, 3,\n",
       "       0, 2, 2, 0, 2, 2, 2, 3, 2, 2, 2, 0, 2, 2, 3, 2, 2, 2, 2, 3, 3, 2,\n",
       "       3, 3, 2, 3, 3, 2, 2, 0, 3, 3, 3, 2, 3, 2, 3, 3, 2, 3, 0, 0, 3, 0,\n",
       "       3, 3, 2, 0, 2, 3, 3, 2, 2, 2, 2, 2, 3, 3, 3, 3, 2, 2, 2, 2, 2, 3,\n",
       "       0, 3, 2, 2, 3, 0, 2, 3, 3, 2, 3, 0, 2, 3, 3, 2, 3, 3, 2, 2, 2, 3,\n",
       "       2, 3, 3, 0, 2, 3, 3, 2, 3, 3, 2, 2, 2, 0, 3, 3, 3, 2, 2, 2, 1, 3,\n",
       "       3, 2, 3, 3, 0, 0, 2, 2, 2, 3, 3, 2, 3, 2, 3, 0, 2, 2, 2, 0, 2, 2,\n",
       "       0, 3, 2, 3, 3, 2, 2, 2, 3, 3, 3, 2, 3, 2, 2, 3, 2, 2, 2, 2, 0, 3,\n",
       "       3, 2, 2, 0, 0, 2, 3, 3, 2, 1, 2, 3, 2, 0, 2, 2, 2, 0, 2, 2, 2, 3,\n",
       "       3, 3, 2, 2, 3, 2, 2, 3, 2, 0])"
      ]
     },
     "execution_count": 42,
     "metadata": {},
     "output_type": "execute_result"
    }
   ],
   "source": [
    "y_train"
   ]
  },
  {
   "cell_type": "code",
   "execution_count": 43,
   "id": "5cac06a4",
   "metadata": {},
   "outputs": [
    {
     "data": {
      "image/png": "[encoded data removed]",
      "text/plain": [
       "<Figure size 640x480 with 1 Axes>"
      ]
     },
     "metadata": {},
     "output_type": "display_data"
    }
   ],
   "source": [
    "import matplotlib.pyplot as plt\n",
    "for i in range(0,3):\n",
    "    plt.imshow(x_test[i],cmap='grey')\n",
    "    plt.show"
   ]
  },
  {
   "cell_type": "code",
   "execution_count": 44,
   "id": "7fc7d552",
   "metadata": {},
   "outputs": [],
   "source": [
    "x_train=np.expand_dims(x_train,axis=3)\n",
    "x_test=np.expand_dims(x_test,axis=3)"
   ]
  },
  {
   "cell_type": "code",
   "execution_count": 45,
   "id": "793b8b1c",
   "metadata": {},
   "outputs": [
    {
     "name": "stdout",
     "output_type": "stream",
     "text": [
      "(1000, 224, 224, 1, 3)\n",
      "(960, 224, 224, 1, 3)\n",
      "(1000,)\n"
     ]
    }
   ],
   "source": [
    "print(x_train.shape)\n",
    "print(x_test.shape)\n",
    "print(y_train.shape)\n"
   ]
  },
  {
   "cell_type": "code",
   "execution_count": 46,
   "id": "0fbcee10",
   "metadata": {},
   "outputs": [],
   "source": [
    "# Normalisation:\n",
    "train_images = x_train.astype(\"float32\") / 255\n",
    "test_images = x_test.astype(\"float32\") / 255\n"
   ]
  },
  {
   "cell_type": "code",
   "execution_count": 47,
   "id": "44ed1201",
   "metadata": {},
   "outputs": [
    {
     "name": "stdout",
     "output_type": "stream",
     "text": [
      "(1000, 224, 224, 3)\n",
      "(960, 224, 224, 3)\n"
     ]
    }
   ],
   "source": [
    "x_train=np.squeeze(x_train)\n",
    "x_test=np.squeeze(x_test)\n",
    "print(x_train.shape)\n",
    "print(x_test.shape)"
   ]
  },
  {
   "cell_type": "code",
   "execution_count": 48,
   "id": "68e70216",
   "metadata": {},
   "outputs": [
    {
     "data": {
      "text/html": [
       "<pre style=\"white-space:pre;overflow-x:auto;line-height:normal;font-family:Menlo,'DejaVu Sans Mono',consolas,'Courier New',monospace\"><span style=\"font-weight: bold\">Model: \"sequential_1\"</span>\n",
       "</pre>\n"
      ],
      "text/plain": [
       "\u001b[1mModel: \"sequential_1\"\u001b[0m\n"
      ]
     },
     "metadata": {},
     "output_type": "display_data"
    },
    {
     "data": {
      "text/html": [
       "<pre style=\"white-space:pre;overflow-x:auto;line-height:normal;font-family:Menlo,'DejaVu Sans Mono',consolas,'Courier New',monospace\">┏━━━━━━━━━━━━━━━━━━━━━━━━━━━━━━━━━┳━━━━━━━━━━━━━━━━━━━━━━━━┳━━━━━━━━━━━━━━━┓\n",
       "┃<span style=\"font-weight: bold\"> Layer (type)                    </span>┃<span style=\"font-weight: bold\"> Output Shape           </span>┃<span style=\"font-weight: bold\">       Param # </span>┃\n",
       "┡━━━━━━━━━━━━━━━━━━━━━━━━━━━━━━━━━╇━━━━━━━━━━━━━━━━━━━━━━━━╇━━━━━━━━━━━━━━━┩\n",
       "│ resnet50 (<span style=\"color: #0087ff; text-decoration-color: #0087ff\">Functional</span>)           │ (<span style=\"color: #00d7ff; text-decoration-color: #00d7ff\">None</span>, <span style=\"color: #00af00; text-decoration-color: #00af00\">7</span>, <span style=\"color: #00af00; text-decoration-color: #00af00\">7</span>, <span style=\"color: #00af00; text-decoration-color: #00af00\">2048</span>)     │    <span style=\"color: #00af00; text-decoration-color: #00af00\">23,587,712</span> │\n",
       "├─────────────────────────────────┼────────────────────────┼───────────────┤\n",
       "│ flatten_1 (<span style=\"color: #0087ff; text-decoration-color: #0087ff\">Flatten</span>)             │ (<span style=\"color: #00d7ff; text-decoration-color: #00d7ff\">None</span>, <span style=\"color: #00af00; text-decoration-color: #00af00\">100352</span>)         │             <span style=\"color: #00af00; text-decoration-color: #00af00\">0</span> │\n",
       "├─────────────────────────────────┼────────────────────────┼───────────────┤\n",
       "│ batch_normalization_2           │ (<span style=\"color: #00d7ff; text-decoration-color: #00d7ff\">None</span>, <span style=\"color: #00af00; text-decoration-color: #00af00\">100352</span>)         │       <span style=\"color: #00af00; text-decoration-color: #00af00\">401,408</span> │\n",
       "│ (<span style=\"color: #0087ff; text-decoration-color: #0087ff\">BatchNormalization</span>)            │                        │               │\n",
       "├─────────────────────────────────┼────────────────────────┼───────────────┤\n",
       "│ dense_4 (<span style=\"color: #0087ff; text-decoration-color: #0087ff\">Dense</span>)                 │ (<span style=\"color: #00d7ff; text-decoration-color: #00d7ff\">None</span>, <span style=\"color: #00af00; text-decoration-color: #00af00\">500</span>)            │    <span style=\"color: #00af00; text-decoration-color: #00af00\">50,176,500</span> │\n",
       "├─────────────────────────────────┼────────────────────────┼───────────────┤\n",
       "│ dropout_2 (<span style=\"color: #0087ff; text-decoration-color: #0087ff\">Dropout</span>)             │ (<span style=\"color: #00d7ff; text-decoration-color: #00d7ff\">None</span>, <span style=\"color: #00af00; text-decoration-color: #00af00\">500</span>)            │             <span style=\"color: #00af00; text-decoration-color: #00af00\">0</span> │\n",
       "├─────────────────────────────────┼────────────────────────┼───────────────┤\n",
       "│ dense_5 (<span style=\"color: #0087ff; text-decoration-color: #0087ff\">Dense</span>)                 │ (<span style=\"color: #00d7ff; text-decoration-color: #00d7ff\">None</span>, <span style=\"color: #00af00; text-decoration-color: #00af00\">300</span>)            │       <span style=\"color: #00af00; text-decoration-color: #00af00\">150,300</span> │\n",
       "├─────────────────────────────────┼────────────────────────┼───────────────┤\n",
       "│ dropout_3 (<span style=\"color: #0087ff; text-decoration-color: #0087ff\">Dropout</span>)             │ (<span style=\"color: #00d7ff; text-decoration-color: #00d7ff\">None</span>, <span style=\"color: #00af00; text-decoration-color: #00af00\">300</span>)            │             <span style=\"color: #00af00; text-decoration-color: #00af00\">0</span> │\n",
       "├─────────────────────────────────┼────────────────────────┼───────────────┤\n",
       "│ dense_6 (<span style=\"color: #0087ff; text-decoration-color: #0087ff\">Dense</span>)                 │ (<span style=\"color: #00d7ff; text-decoration-color: #00d7ff\">None</span>, <span style=\"color: #00af00; text-decoration-color: #00af00\">128</span>)            │        <span style=\"color: #00af00; text-decoration-color: #00af00\">38,528</span> │\n",
       "├─────────────────────────────────┼────────────────────────┼───────────────┤\n",
       "│ dropout_4 (<span style=\"color: #0087ff; text-decoration-color: #0087ff\">Dropout</span>)             │ (<span style=\"color: #00d7ff; text-decoration-color: #00d7ff\">None</span>, <span style=\"color: #00af00; text-decoration-color: #00af00\">128</span>)            │             <span style=\"color: #00af00; text-decoration-color: #00af00\">0</span> │\n",
       "├─────────────────────────────────┼────────────────────────┼───────────────┤\n",
       "│ batch_normalization_3           │ (<span style=\"color: #00d7ff; text-decoration-color: #00d7ff\">None</span>, <span style=\"color: #00af00; text-decoration-color: #00af00\">128</span>)            │           <span style=\"color: #00af00; text-decoration-color: #00af00\">512</span> │\n",
       "│ (<span style=\"color: #0087ff; text-decoration-color: #0087ff\">BatchNormalization</span>)            │                        │               │\n",
       "├─────────────────────────────────┼────────────────────────┼───────────────┤\n",
       "│ dense_7 (<span style=\"color: #0087ff; text-decoration-color: #0087ff\">Dense</span>)                 │ (<span style=\"color: #00d7ff; text-decoration-color: #00d7ff\">None</span>, <span style=\"color: #00af00; text-decoration-color: #00af00\">64</span>)             │         <span style=\"color: #00af00; text-decoration-color: #00af00\">8,256</span> │\n",
       "├─────────────────────────────────┼────────────────────────┼───────────────┤\n",
       "│ dense_8 (<span style=\"color: #0087ff; text-decoration-color: #0087ff\">Dense</span>)                 │ (<span style=\"color: #00d7ff; text-decoration-color: #00d7ff\">None</span>, <span style=\"color: #00af00; text-decoration-color: #00af00\">10</span>)             │           <span style=\"color: #00af00; text-decoration-color: #00af00\">650</span> │\n",
       "└─────────────────────────────────┴────────────────────────┴───────────────┘\n",
       "</pre>\n"
      ],
      "text/plain": [
       "┏━━━━━━━━━━━━━━━━━━━━━━━━━━━━━━━━━┳━━━━━━━━━━━━━━━━━━━━━━━━┳━━━━━━━━━━━━━━━┓\n",
       "┃\u001b[1m \u001b[0m\u001b[1mLayer (type)                   \u001b[0m\u001b[1m \u001b[0m┃\u001b[1m \u001b[0m\u001b[1mOutput Shape          \u001b[0m\u001b[1m \u001b[0m┃\u001b[1m \u001b[0m\u001b[1m      Param #\u001b[0m\u001b[1m \u001b[0m┃\n",
       "┡━━━━━━━━━━━━━━━━━━━━━━━━━━━━━━━━━╇━━━━━━━━━━━━━━━━━━━━━━━━╇━━━━━━━━━━━━━━━┩\n",
       "│ resnet50 (\u001b[38;5;33mFunctional\u001b[0m)           │ (\u001b[38;5;45mNone\u001b[0m, \u001b[38;5;34m7\u001b[0m, \u001b[38;5;34m7\u001b[0m, \u001b[38;5;34m2048\u001b[0m)     │    \u001b[38;5;34m23,587,712\u001b[0m │\n",
       "├─────────────────────────────────┼────────────────────────┼───────────────┤\n",
       "│ flatten_1 (\u001b[38;5;33mFlatten\u001b[0m)             │ (\u001b[38;5;45mNone\u001b[0m, \u001b[38;5;34m100352\u001b[0m)         │             \u001b[38;5;34m0\u001b[0m │\n",
       "├─────────────────────────────────┼────────────────────────┼───────────────┤\n",
       "│ batch_normalization_2           │ (\u001b[38;5;45mNone\u001b[0m, \u001b[38;5;34m100352\u001b[0m)         │       \u001b[38;5;34m401,408\u001b[0m │\n",
       "│ (\u001b[38;5;33mBatchNormalization\u001b[0m)            │                        │               │\n",
       "├─────────────────────────────────┼────────────────────────┼───────────────┤\n",
       "│ dense_4 (\u001b[38;5;33mDense\u001b[0m)                 │ (\u001b[38;5;45mNone\u001b[0m, \u001b[38;5;34m500\u001b[0m)            │    \u001b[38;5;34m50,176,500\u001b[0m │\n",
       "├─────────────────────────────────┼────────────────────────┼───────────────┤\n",
       "│ dropout_2 (\u001b[38;5;33mDropout\u001b[0m)             │ (\u001b[38;5;45mNone\u001b[0m, \u001b[38;5;34m500\u001b[0m)            │             \u001b[38;5;34m0\u001b[0m │\n",
       "├─────────────────────────────────┼────────────────────────┼───────────────┤\n",
       "│ dense_5 (\u001b[38;5;33mDense\u001b[0m)                 │ (\u001b[38;5;45mNone\u001b[0m, \u001b[38;5;34m300\u001b[0m)            │       \u001b[38;5;34m150,300\u001b[0m │\n",
       "├─────────────────────────────────┼────────────────────────┼───────────────┤\n",
       "│ dropout_3 (\u001b[38;5;33mDropout\u001b[0m)             │ (\u001b[38;5;45mNone\u001b[0m, \u001b[38;5;34m300\u001b[0m)            │             \u001b[38;5;34m0\u001b[0m │\n",
       "├─────────────────────────────────┼────────────────────────┼───────────────┤\n",
       "│ dense_6 (\u001b[38;5;33mDense\u001b[0m)                 │ (\u001b[38;5;45mNone\u001b[0m, \u001b[38;5;34m128\u001b[0m)            │        \u001b[38;5;34m38,528\u001b[0m │\n",
       "├─────────────────────────────────┼────────────────────────┼───────────────┤\n",
       "│ dropout_4 (\u001b[38;5;33mDropout\u001b[0m)             │ (\u001b[38;5;45mNone\u001b[0m, \u001b[38;5;34m128\u001b[0m)            │             \u001b[38;5;34m0\u001b[0m │\n",
       "├─────────────────────────────────┼────────────────────────┼───────────────┤\n",
       "│ batch_normalization_3           │ (\u001b[38;5;45mNone\u001b[0m, \u001b[38;5;34m128\u001b[0m)            │           \u001b[38;5;34m512\u001b[0m │\n",
       "│ (\u001b[38;5;33mBatchNormalization\u001b[0m)            │                        │               │\n",
       "├─────────────────────────────────┼────────────────────────┼───────────────┤\n",
       "│ dense_7 (\u001b[38;5;33mDense\u001b[0m)                 │ (\u001b[38;5;45mNone\u001b[0m, \u001b[38;5;34m64\u001b[0m)             │         \u001b[38;5;34m8,256\u001b[0m │\n",
       "├─────────────────────────────────┼────────────────────────┼───────────────┤\n",
       "│ dense_8 (\u001b[38;5;33mDense\u001b[0m)                 │ (\u001b[38;5;45mNone\u001b[0m, \u001b[38;5;34m10\u001b[0m)             │           \u001b[38;5;34m650\u001b[0m │\n",
       "└─────────────────────────────────┴────────────────────────┴───────────────┘\n"
      ]
     },
     "metadata": {},
     "output_type": "display_data"
    },
    {
     "data": {
      "text/html": [
       "<pre style=\"white-space:pre;overflow-x:auto;line-height:normal;font-family:Menlo,'DejaVu Sans Mono',consolas,'Courier New',monospace\"><span style=\"font-weight: bold\"> Total params: </span><span style=\"color: #00af00; text-decoration-color: #00af00\">74,363,866</span> (283.68 MB)\n",
       "</pre>\n"
      ],
      "text/plain": [
       "\u001b[1m Total params: \u001b[0m\u001b[38;5;34m74,363,866\u001b[0m (283.68 MB)\n"
      ]
     },
     "metadata": {},
     "output_type": "display_data"
    },
    {
     "data": {
      "text/html": [
       "<pre style=\"white-space:pre;overflow-x:auto;line-height:normal;font-family:Menlo,'DejaVu Sans Mono',consolas,'Courier New',monospace\"><span style=\"font-weight: bold\"> Trainable params: </span><span style=\"color: #00af00; text-decoration-color: #00af00\">50,575,194</span> (192.93 MB)\n",
       "</pre>\n"
      ],
      "text/plain": [
       "\u001b[1m Trainable params: \u001b[0m\u001b[38;5;34m50,575,194\u001b[0m (192.93 MB)\n"
      ]
     },
     "metadata": {},
     "output_type": "display_data"
    },
    {
     "data": {
      "text/html": [
       "<pre style=\"white-space:pre;overflow-x:auto;line-height:normal;font-family:Menlo,'DejaVu Sans Mono',consolas,'Courier New',monospace\"><span style=\"font-weight: bold\"> Non-trainable params: </span><span style=\"color: #00af00; text-decoration-color: #00af00\">23,788,672</span> (90.75 MB)\n",
       "</pre>\n"
      ],
      "text/plain": [
       "\u001b[1m Non-trainable params: \u001b[0m\u001b[38;5;34m23,788,672\u001b[0m (90.75 MB)\n"
      ]
     },
     "metadata": {},
     "output_type": "display_data"
    }
   ],
   "source": [
    "from tensorflow.keras.regularizers import l1,l2\n",
    "from keras.models import Sequential\n",
    "from keras.layers import Dense, Conv2D, MaxPooling2D, Flatten, Dropout, BatchNormalization\n",
    "from keras.regularizers import l2\n",
    "from keras import layers\n",
    "from keras.applications import ResNet50\n",
    "\n",
    "# 3. Charger ResNet50 sans la partie classification (top), avec les poids ImageNet\n",
    "base_model =ResNet50(weights='imagenet', include_top=False, input_shape=(224, 224, 3))\n",
    "\n",
    "# 4. Geler les couches convolutionnelles\n",
    "for layer in base_model.layers:\n",
    "    layer.trainable = False\n",
    "\n",
    "# 5. Ajouter le classifieur personnalisé\n",
    "\n",
    "\n",
    "\n",
    "model = Sequential([\n",
    "    base_model,\n",
    "    Flatten(),\n",
    "    BatchNormalization(),\n",
    "    Dense(500, activation='relu',kernel_regularizer=l2(0.001)),\n",
    "    Dropout(0.5),\n",
    "    Dense(300, activation='relu',kernel_regularizer=l2(0.001)),\n",
    "    Dropout(0.5),\n",
    "    Dense(128, activation='relu',kernel_regularizer=l2(0.001)),\n",
    "    Dropout(0.3),\n",
    "    BatchNormalization(),\n",
    "    Dense(64, activation='relu',kernel_regularizer=l2(0.001)),\n",
    "    Dense(10, activation='softmax')\n",
    "])\n",
    "model.summary()"
   ]
  },
  {
   "cell_type": "code",
   "execution_count": 49,
   "id": "5df2e087",
   "metadata": {},
   "outputs": [],
   "source": [
    "sgd = tf.keras.optimizers.SGD(0.01)\n",
    "adam = tf.keras.optimizers.Adam(learning_rate=0.001)\n",
    "nadam = tf.keras.optimizers.Nadam()\n",
    "adamax = tf.keras.optimizers.Adamax()\n",
    "adagrad = tf.keras.optimizers.Adagrad()\n",
    "RMSprop = tf.keras.optimizers.RMSprop(learning_rate=0.0001)\n"
   ]
  },
  {
   "cell_type": "code",
   "execution_count": 50,
   "id": "3000c6c7",
   "metadata": {},
   "outputs": [],
   "source": [
    "from tensorflow.keras.losses import SparseCategoricalCrossentropy"
   ]
  },
  {
   "cell_type": "code",
   "execution_count": 51,
   "id": "7e3a3311",
   "metadata": {},
   "outputs": [],
   "source": [
    "model.compile(\n",
    "    optimizer=adam,\n",
    "    loss=losses.SparseCategoricalCrossentropy(),\n",
    "    metrics=[\"accuracy\"]\n",
    ")"
   ]
  },
  {
   "cell_type": "code",
   "execution_count": 52,
   "id": "ed73092f",
   "metadata": {},
   "outputs": [],
   "source": [
    "from tensorflow.keras.callbacks import EarlyStopping, ReduceLROnPlateau, ModelCheckpoint\n"
   ]
  },
  {
   "cell_type": "code",
   "execution_count": 53,
   "id": "d6740577",
   "metadata": {},
   "outputs": [],
   "source": [
    "x_train = np.array(x_train)\n",
    "y_train = np.array(y_train)"
   ]
  },
  {
   "cell_type": "code",
   "execution_count": 54,
   "id": "95e18690",
   "metadata": {},
   "outputs": [
    {
     "name": "stdout",
     "output_type": "stream",
     "text": [
      "<class 'numpy.ndarray'>\n",
      "int64\n",
      "[3 3 2 2 2]\n"
     ]
    }
   ],
   "source": [
    "print(type(y_train))\n",
    "print(y_train.dtype)\n",
    "print(y_train[:5])"
   ]
  },
  {
   "cell_type": "code",
   "execution_count": 55,
   "id": "9777acd2",
   "metadata": {},
   "outputs": [
    {
     "name": "stdout",
     "output_type": "stream",
     "text": [
      "<class 'numpy.ndarray'>\n",
      "<class 'numpy.ndarray'>\n",
      "(224, 224, 3)\n"
     ]
    }
   ],
   "source": [
    "print(type(x_train))\n",
    "print(type(x_train[0]))\n",
    "print(x_train[0].shape)\n"
   ]
  },
  {
   "cell_type": "code",
   "execution_count": 56,
   "id": "aefdedd0",
   "metadata": {},
   "outputs": [
    {
     "name": "stdout",
     "output_type": "stream",
     "text": [
      "Epoch 1/100\n",
      "\u001b[1m2/2\u001b[0m \u001b[32m━━━━━━━━━━━━━━━━━━━━\u001b[0m\u001b[37m\u001b[0m \u001b[1m0s\u001b[0m 5s/step - accuracy: 0.1934 - loss: 3.9684  \n",
      "Epoch 1: val_accuracy improved from None to 0.02000, saving model to C:/Users/chundie/Desktop/pfa fatima/best_model.h5\n"
     ]
    },
    {
     "name": "stderr",
     "output_type": "stream",
     "text": [
      "WARNING:absl:You are saving your model as an HDF5 file via `model.save()` or `keras.saving.save_model(model)`. This file format is considered legacy. We recommend using instead the native Keras format, e.g. `model.save('my_model.keras')` or `keras.saving.save_model(model, 'my_model.keras')`. \n"
     ]
    },
    {
     "name": "stdout",
     "output_type": "stream",
     "text": [
      "\u001b[1m2/2\u001b[0m \u001b[32m━━━━━━━━━━━━━━━━━━━━\u001b[0m\u001b[37m\u001b[0m \u001b[1m22s\u001b[0m 10s/step - accuracy: 0.2087 - loss: 3.8820 - val_accuracy: 0.0200 - val_loss: 3.5951 - learning_rate: 0.0010\n",
      "Epoch 2/100\n",
      "\u001b[1m2/2\u001b[0m \u001b[32m━━━━━━━━━━━━━━━━━━━━\u001b[0m\u001b[37m\u001b[0m \u001b[1m0s\u001b[0m 5s/step - accuracy: 0.2965 - loss: 3.2597\n",
      "Epoch 2: val_accuracy improved from 0.02000 to 0.05500, saving model to C:/Users/chundie/Desktop/pfa fatima/best_model.h5\n"
     ]
    },
    {
     "name": "stderr",
     "output_type": "stream",
     "text": [
      "WARNING:absl:You are saving your model as an HDF5 file via `model.save()` or `keras.saving.save_model(model)`. This file format is considered legacy. We recommend using instead the native Keras format, e.g. `model.save('my_model.keras')` or `keras.saving.save_model(model, 'my_model.keras')`. \n"
     ]
    },
    {
     "name": "stdout",
     "output_type": "stream",
     "text": [
      "\u001b[1m2/2\u001b[0m \u001b[32m━━━━━━━━━━━━━━━━━━━━\u001b[0m\u001b[37m\u001b[0m \u001b[1m16s\u001b[0m 9s/step - accuracy: 0.3050 - loss: 3.2212 - val_accuracy: 0.0550 - val_loss: 4.2221 - learning_rate: 0.0010\n",
      "Epoch 3/100\n",
      "\u001b[1m2/2\u001b[0m \u001b[32m━━━━━━━━━━━━━━━━━━━━\u001b[0m\u001b[37m\u001b[0m \u001b[1m0s\u001b[0m 5s/step - accuracy: 0.3894 - loss: 2.8163\n",
      "Epoch 3: val_accuracy improved from 0.05500 to 0.31500, saving model to C:/Users/chundie/Desktop/pfa fatima/best_model.h5\n"
     ]
    },
    {
     "name": "stderr",
     "output_type": "stream",
     "text": [
      "WARNING:absl:You are saving your model as an HDF5 file via `model.save()` or `keras.saving.save_model(model)`. This file format is considered legacy. We recommend using instead the native Keras format, e.g. `model.save('my_model.keras')` or `keras.saving.save_model(model, 'my_model.keras')`. \n"
     ]
    },
    {
     "name": "stdout",
     "output_type": "stream",
     "text": [
      "\u001b[1m2/2\u001b[0m \u001b[32m━━━━━━━━━━━━━━━━━━━━\u001b[0m\u001b[37m\u001b[0m \u001b[1m16s\u001b[0m 9s/step - accuracy: 0.3887 - loss: 2.8129 - val_accuracy: 0.3150 - val_loss: 3.9753 - learning_rate: 0.0010\n",
      "Epoch 4/100\n",
      "\u001b[1m2/2\u001b[0m \u001b[32m━━━━━━━━━━━━━━━━━━━━\u001b[0m\u001b[37m\u001b[0m \u001b[1m0s\u001b[0m 5s/step - accuracy: 0.4011 - loss: 2.6037\n",
      "Epoch 4: val_accuracy improved from 0.31500 to 0.38000, saving model to C:/Users/chundie/Desktop/pfa fatima/best_model.h5\n"
     ]
    },
    {
     "name": "stderr",
     "output_type": "stream",
     "text": [
      "WARNING:absl:You are saving your model as an HDF5 file via `model.save()` or `keras.saving.save_model(model)`. This file format is considered legacy. We recommend using instead the native Keras format, e.g. `model.save('my_model.keras')` or `keras.saving.save_model(model, 'my_model.keras')`. \n"
     ]
    },
    {
     "name": "stdout",
     "output_type": "stream",
     "text": [
      "\u001b[1m2/2\u001b[0m \u001b[32m━━━━━━━━━━━━━━━━━━━━\u001b[0m\u001b[37m\u001b[0m \u001b[1m16s\u001b[0m 9s/step - accuracy: 0.4162 - loss: 2.5833 - val_accuracy: 0.3800 - val_loss: 3.7458 - learning_rate: 0.0010\n",
      "Epoch 5/100\n",
      "\u001b[1m2/2\u001b[0m \u001b[32m━━━━━━━━━━━━━━━━━━━━\u001b[0m\u001b[37m\u001b[0m \u001b[1m0s\u001b[0m 5s/step - accuracy: 0.4334 - loss: 2.4790\n",
      "Epoch 5: val_accuracy did not improve from 0.38000\n",
      "\u001b[1m2/2\u001b[0m \u001b[32m━━━━━━━━━━━━━━━━━━━━\u001b[0m\u001b[37m\u001b[0m \u001b[1m16s\u001b[0m 8s/step - accuracy: 0.4387 - loss: 2.4691 - val_accuracy: 0.3800 - val_loss: 3.2997 - learning_rate: 0.0010\n",
      "Epoch 6/100\n",
      "\u001b[1m2/2\u001b[0m \u001b[32m━━━━━━━━━━━━━━━━━━━━\u001b[0m\u001b[37m\u001b[0m \u001b[1m0s\u001b[0m 6s/step - accuracy: 0.4500 - loss: 2.4165\n",
      "Epoch 6: val_accuracy improved from 0.38000 to 0.41500, saving model to C:/Users/chundie/Desktop/pfa fatima/best_model.h5\n"
     ]
    },
    {
     "name": "stderr",
     "output_type": "stream",
     "text": [
      "WARNING:absl:You are saving your model as an HDF5 file via `model.save()` or `keras.saving.save_model(model)`. This file format is considered legacy. We recommend using instead the native Keras format, e.g. `model.save('my_model.keras')` or `keras.saving.save_model(model, 'my_model.keras')`. \n"
     ]
    },
    {
     "name": "stdout",
     "output_type": "stream",
     "text": [
      "\u001b[1m2/2\u001b[0m \u001b[32m━━━━━━━━━━━━━━━━━━━━\u001b[0m\u001b[37m\u001b[0m \u001b[1m19s\u001b[0m 11s/step - accuracy: 0.4600 - loss: 2.3890 - val_accuracy: 0.4150 - val_loss: 3.1052 - learning_rate: 0.0010\n",
      "Epoch 7/100\n",
      "\u001b[1m2/2\u001b[0m \u001b[32m━━━━━━━━━━━━━━━━━━━━\u001b[0m\u001b[37m\u001b[0m \u001b[1m0s\u001b[0m 6s/step - accuracy: 0.5447 - loss: 2.3236 \n",
      "Epoch 7: val_accuracy improved from 0.41500 to 0.42000, saving model to C:/Users/chundie/Desktop/pfa fatima/best_model.h5\n"
     ]
    },
    {
     "name": "stderr",
     "output_type": "stream",
     "text": [
      "WARNING:absl:You are saving your model as an HDF5 file via `model.save()` or `keras.saving.save_model(model)`. This file format is considered legacy. We recommend using instead the native Keras format, e.g. `model.save('my_model.keras')` or `keras.saving.save_model(model, 'my_model.keras')`. \n"
     ]
    },
    {
     "name": "stdout",
     "output_type": "stream",
     "text": [
      "\u001b[1m2/2\u001b[0m \u001b[32m━━━━━━━━━━━━━━━━━━━━\u001b[0m\u001b[37m\u001b[0m \u001b[1m20s\u001b[0m 10s/step - accuracy: 0.5375 - loss: 2.3198 - val_accuracy: 0.4200 - val_loss: 2.8820 - learning_rate: 0.0010\n",
      "Epoch 8/100\n",
      "\u001b[1m2/2\u001b[0m \u001b[32m━━━━━━━━━━━━━━━━━━━━\u001b[0m\u001b[37m\u001b[0m \u001b[1m0s\u001b[0m 6s/step - accuracy: 0.5370 - loss: 2.2520  \n",
      "Epoch 8: val_accuracy did not improve from 0.42000\n",
      "\u001b[1m2/2\u001b[0m \u001b[32m━━━━━━━━━━━━━━━━━━━━\u001b[0m\u001b[37m\u001b[0m \u001b[1m21s\u001b[0m 11s/step - accuracy: 0.5500 - loss: 2.2372 - val_accuracy: 0.4200 - val_loss: 2.6654 - learning_rate: 0.0010\n",
      "Epoch 9/100\n",
      "\u001b[1m2/2\u001b[0m \u001b[32m━━━━━━━━━━━━━━━━━━━━\u001b[0m\u001b[37m\u001b[0m \u001b[1m0s\u001b[0m 7s/step - accuracy: 0.5215 - loss: 2.2052  \n",
      "Epoch 9: val_accuracy did not improve from 0.42000\n",
      "\u001b[1m2/2\u001b[0m \u001b[32m━━━━━━━━━━━━━━━━━━━━\u001b[0m\u001b[37m\u001b[0m \u001b[1m21s\u001b[0m 11s/step - accuracy: 0.5250 - loss: 2.1903 - val_accuracy: 0.4200 - val_loss: 2.5656 - learning_rate: 0.0010\n",
      "Epoch 10/100\n",
      "\u001b[1m2/2\u001b[0m \u001b[32m━━━━━━━━━━━━━━━━━━━━\u001b[0m\u001b[37m\u001b[0m \u001b[1m0s\u001b[0m 5s/step - accuracy: 0.5863 - loss: 2.0699  \n",
      "Epoch 10: val_accuracy improved from 0.42000 to 0.42500, saving model to C:/Users/chundie/Desktop/pfa fatima/best_model.h5\n"
     ]
    },
    {
     "name": "stderr",
     "output_type": "stream",
     "text": [
      "WARNING:absl:You are saving your model as an HDF5 file via `model.save()` or `keras.saving.save_model(model)`. This file format is considered legacy. We recommend using instead the native Keras format, e.g. `model.save('my_model.keras')` or `keras.saving.save_model(model, 'my_model.keras')`. \n"
     ]
    },
    {
     "name": "stdout",
     "output_type": "stream",
     "text": [
      "\u001b[1m2/2\u001b[0m \u001b[32m━━━━━━━━━━━━━━━━━━━━\u001b[0m\u001b[37m\u001b[0m \u001b[1m19s\u001b[0m 9s/step - accuracy: 0.5725 - loss: 2.0830 - val_accuracy: 0.4250 - val_loss: 2.5660 - learning_rate: 0.0010\n",
      "Epoch 11/100\n",
      "\u001b[1m2/2\u001b[0m \u001b[32m━━━━━━━━━━━━━━━━━━━━\u001b[0m\u001b[37m\u001b[0m \u001b[1m0s\u001b[0m 5s/step - accuracy: 0.5447 - loss: 2.0326\n",
      "Epoch 11: val_accuracy improved from 0.42500 to 0.43500, saving model to C:/Users/chundie/Desktop/pfa fatima/best_model.h5\n"
     ]
    },
    {
     "name": "stderr",
     "output_type": "stream",
     "text": [
      "WARNING:absl:You are saving your model as an HDF5 file via `model.save()` or `keras.saving.save_model(model)`. This file format is considered legacy. We recommend using instead the native Keras format, e.g. `model.save('my_model.keras')` or `keras.saving.save_model(model, 'my_model.keras')`. \n"
     ]
    },
    {
     "name": "stdout",
     "output_type": "stream",
     "text": [
      "\u001b[1m2/2\u001b[0m \u001b[32m━━━━━━━━━━━━━━━━━━━━\u001b[0m\u001b[37m\u001b[0m \u001b[1m17s\u001b[0m 9s/step - accuracy: 0.5475 - loss: 2.0524 - val_accuracy: 0.4350 - val_loss: 2.5625 - learning_rate: 0.0010\n",
      "Epoch 12/100\n",
      "\u001b[1m2/2\u001b[0m \u001b[32m━━━━━━━━━━━━━━━━━━━━\u001b[0m\u001b[37m\u001b[0m \u001b[1m0s\u001b[0m 5s/step - accuracy: 0.5596 - loss: 1.9726\n",
      "Epoch 12: val_accuracy improved from 0.43500 to 0.44000, saving model to C:/Users/chundie/Desktop/pfa fatima/best_model.h5\n"
     ]
    },
    {
     "name": "stderr",
     "output_type": "stream",
     "text": [
      "WARNING:absl:You are saving your model as an HDF5 file via `model.save()` or `keras.saving.save_model(model)`. This file format is considered legacy. We recommend using instead the native Keras format, e.g. `model.save('my_model.keras')` or `keras.saving.save_model(model, 'my_model.keras')`. \n"
     ]
    },
    {
     "name": "stdout",
     "output_type": "stream",
     "text": [
      "\u001b[1m2/2\u001b[0m \u001b[32m━━━━━━━━━━━━━━━━━━━━\u001b[0m\u001b[37m\u001b[0m \u001b[1m17s\u001b[0m 9s/step - accuracy: 0.5612 - loss: 1.9695 - val_accuracy: 0.4400 - val_loss: 2.5406 - learning_rate: 0.0010\n",
      "Epoch 13/100\n",
      "\u001b[1m2/2\u001b[0m \u001b[32m━━━━━━━━━━━━━━━━━━━━\u001b[0m\u001b[37m\u001b[0m \u001b[1m0s\u001b[0m 5s/step - accuracy: 0.5745 - loss: 1.9394\n",
      "Epoch 13: val_accuracy improved from 0.44000 to 0.45000, saving model to C:/Users/chundie/Desktop/pfa fatima/best_model.h5\n"
     ]
    },
    {
     "name": "stderr",
     "output_type": "stream",
     "text": [
      "WARNING:absl:You are saving your model as an HDF5 file via `model.save()` or `keras.saving.save_model(model)`. This file format is considered legacy. We recommend using instead the native Keras format, e.g. `model.save('my_model.keras')` or `keras.saving.save_model(model, 'my_model.keras')`. \n"
     ]
    },
    {
     "name": "stdout",
     "output_type": "stream",
     "text": [
      "\u001b[1m2/2\u001b[0m \u001b[32m━━━━━━━━━━━━━━━━━━━━\u001b[0m\u001b[37m\u001b[0m \u001b[1m17s\u001b[0m 9s/step - accuracy: 0.5750 - loss: 1.9292 - val_accuracy: 0.4500 - val_loss: 2.4864 - learning_rate: 0.0010\n",
      "Epoch 14/100\n",
      "\u001b[1m2/2\u001b[0m \u001b[32m━━━━━━━━━━━━━━━━━━━━\u001b[0m\u001b[37m\u001b[0m \u001b[1m0s\u001b[0m 7s/step - accuracy: 0.5812 - loss: 1.8939\n",
      "Epoch 14: val_accuracy improved from 0.45000 to 0.47000, saving model to C:/Users/chundie/Desktop/pfa fatima/best_model.h5\n"
     ]
    },
    {
     "name": "stderr",
     "output_type": "stream",
     "text": [
      "WARNING:absl:You are saving your model as an HDF5 file via `model.save()` or `keras.saving.save_model(model)`. This file format is considered legacy. We recommend using instead the native Keras format, e.g. `model.save('my_model.keras')` or `keras.saving.save_model(model, 'my_model.keras')`. \n"
     ]
    },
    {
     "name": "stdout",
     "output_type": "stream",
     "text": [
      "\u001b[1m2/2\u001b[0m \u001b[32m━━━━━━━━━━━━━━━━━━━━\u001b[0m\u001b[37m\u001b[0m \u001b[1m21s\u001b[0m 12s/step - accuracy: 0.5725 - loss: 1.9036 - val_accuracy: 0.4700 - val_loss: 2.4478 - learning_rate: 0.0010\n",
      "Epoch 15/100\n",
      "\u001b[1m2/2\u001b[0m \u001b[32m━━━━━━━━━━━━━━━━━━━━\u001b[0m\u001b[37m\u001b[0m \u001b[1m0s\u001b[0m 6s/step - accuracy: 0.5874 - loss: 1.8886  \n",
      "Epoch 15: val_accuracy improved from 0.47000 to 0.48000, saving model to C:/Users/chundie/Desktop/pfa fatima/best_model.h5\n"
     ]
    },
    {
     "name": "stderr",
     "output_type": "stream",
     "text": [
      "WARNING:absl:You are saving your model as an HDF5 file via `model.save()` or `keras.saving.save_model(model)`. This file format is considered legacy. We recommend using instead the native Keras format, e.g. `model.save('my_model.keras')` or `keras.saving.save_model(model, 'my_model.keras')`. \n"
     ]
    },
    {
     "name": "stdout",
     "output_type": "stream",
     "text": [
      "\u001b[1m2/2\u001b[0m \u001b[32m━━━━━━━━━━━━━━━━━━━━\u001b[0m\u001b[37m\u001b[0m \u001b[1m22s\u001b[0m 12s/step - accuracy: 0.5888 - loss: 1.8820 - val_accuracy: 0.4800 - val_loss: 2.4230 - learning_rate: 0.0010\n",
      "Epoch 16/100\n",
      "\u001b[1m2/2\u001b[0m \u001b[32m━━━━━━━━━━━━━━━━━━━━\u001b[0m\u001b[37m\u001b[0m \u001b[1m0s\u001b[0m 5s/step - accuracy: 0.5815 - loss: 1.8912\n",
      "Epoch 16: val_accuracy did not improve from 0.48000\n",
      "\u001b[1m2/2\u001b[0m \u001b[32m━━━━━━━━━━━━━━━━━━━━\u001b[0m\u001b[37m\u001b[0m \u001b[1m17s\u001b[0m 8s/step - accuracy: 0.5850 - loss: 1.8777 - val_accuracy: 0.4750 - val_loss: 2.3892 - learning_rate: 0.0010\n",
      "Epoch 17/100\n",
      "\u001b[1m2/2\u001b[0m \u001b[32m━━━━━━━━━━━━━━━━━━━━\u001b[0m\u001b[37m\u001b[0m \u001b[1m0s\u001b[0m 5s/step - accuracy: 0.5891 - loss: 1.8193\n",
      "Epoch 17: val_accuracy improved from 0.48000 to 0.49000, saving model to C:/Users/chundie/Desktop/pfa fatima/best_model.h5\n"
     ]
    },
    {
     "name": "stderr",
     "output_type": "stream",
     "text": [
      "WARNING:absl:You are saving your model as an HDF5 file via `model.save()` or `keras.saving.save_model(model)`. This file format is considered legacy. We recommend using instead the native Keras format, e.g. `model.save('my_model.keras')` or `keras.saving.save_model(model, 'my_model.keras')`. \n"
     ]
    },
    {
     "name": "stdout",
     "output_type": "stream",
     "text": [
      "\u001b[1m2/2\u001b[0m \u001b[32m━━━━━━━━━━━━━━━━━━━━\u001b[0m\u001b[37m\u001b[0m \u001b[1m17s\u001b[0m 9s/step - accuracy: 0.5962 - loss: 1.8057 - val_accuracy: 0.4900 - val_loss: 2.3652 - learning_rate: 0.0010\n",
      "Epoch 18/100\n",
      "\u001b[1m2/2\u001b[0m \u001b[32m━━━━━━━━━━━━━━━━━━━━\u001b[0m\u001b[37m\u001b[0m \u001b[1m0s\u001b[0m 6s/step - accuracy: 0.6004 - loss: 1.7837 \n",
      "Epoch 18: val_accuracy did not improve from 0.49000\n",
      "\u001b[1m2/2\u001b[0m \u001b[32m━━━━━━━━━━━━━━━━━━━━\u001b[0m\u001b[37m\u001b[0m \u001b[1m20s\u001b[0m 11s/step - accuracy: 0.5987 - loss: 1.7729 - val_accuracy: 0.4800 - val_loss: 2.3609 - learning_rate: 0.0010\n",
      "Epoch 19/100\n",
      "\u001b[1m2/2\u001b[0m \u001b[32m━━━━━━━━━━━━━━━━━━━━\u001b[0m\u001b[37m\u001b[0m \u001b[1m0s\u001b[0m 7s/step - accuracy: 0.6186 - loss: 1.7808  \n",
      "Epoch 19: val_accuracy did not improve from 0.49000\n",
      "\u001b[1m2/2\u001b[0m \u001b[32m━━━━━━━━━━━━━━━━━━━━\u001b[0m\u001b[37m\u001b[0m \u001b[1m21s\u001b[0m 11s/step - accuracy: 0.6112 - loss: 1.7884 - val_accuracy: 0.4750 - val_loss: 2.3691 - learning_rate: 0.0010\n",
      "Epoch 20/100\n",
      "\u001b[1m2/2\u001b[0m \u001b[32m━━━━━━━━━━━━━━━━━━━━\u001b[0m\u001b[37m\u001b[0m \u001b[1m0s\u001b[0m 5s/step - accuracy: 0.6114 - loss: 1.7326 \n",
      "Epoch 20: val_accuracy did not improve from 0.49000\n",
      "\u001b[1m2/2\u001b[0m \u001b[32m━━━━━━━━━━━━━━━━━━━━\u001b[0m\u001b[37m\u001b[0m \u001b[1m17s\u001b[0m 8s/step - accuracy: 0.6087 - loss: 1.7348 - val_accuracy: 0.4700 - val_loss: 2.3482 - learning_rate: 0.0010\n",
      "Epoch 21/100\n",
      "\u001b[1m2/2\u001b[0m \u001b[32m━━━━━━━━━━━━━━━━━━━━\u001b[0m\u001b[37m\u001b[0m \u001b[1m0s\u001b[0m 5s/step - accuracy: 0.5978 - loss: 1.7384\n",
      "Epoch 21: val_accuracy did not improve from 0.49000\n",
      "\u001b[1m2/2\u001b[0m \u001b[32m━━━━━━━━━━━━━━━━━━━━\u001b[0m\u001b[37m\u001b[0m \u001b[1m16s\u001b[0m 8s/step - accuracy: 0.6075 - loss: 1.7300 - val_accuracy: 0.4650 - val_loss: 2.3020 - learning_rate: 0.0010\n",
      "Epoch 22/100\n",
      "\u001b[1m2/2\u001b[0m \u001b[32m━━━━━━━━━━━━━━━━━━━━\u001b[0m\u001b[37m\u001b[0m \u001b[1m0s\u001b[0m 5s/step - accuracy: 0.6068 - loss: 1.7129\n",
      "Epoch 22: val_accuracy did not improve from 0.49000\n",
      "\u001b[1m2/2\u001b[0m \u001b[32m━━━━━━━━━━━━━━━━━━━━\u001b[0m\u001b[37m\u001b[0m \u001b[1m16s\u001b[0m 8s/step - accuracy: 0.5975 - loss: 1.7187 - val_accuracy: 0.4700 - val_loss: 2.2676 - learning_rate: 0.0010\n",
      "Epoch 23/100\n",
      "\u001b[1m2/2\u001b[0m \u001b[32m━━━━━━━━━━━━━━━━━━━━\u001b[0m\u001b[37m\u001b[0m \u001b[1m0s\u001b[0m 5s/step - accuracy: 0.6299 - loss: 1.6715\n",
      "Epoch 23: val_accuracy did not improve from 0.49000\n",
      "\u001b[1m2/2\u001b[0m \u001b[32m━━━━━━━━━━━━━━━━━━━━\u001b[0m\u001b[37m\u001b[0m \u001b[1m16s\u001b[0m 8s/step - accuracy: 0.6137 - loss: 1.6887 - val_accuracy: 0.4900 - val_loss: 2.2254 - learning_rate: 0.0010\n",
      "Epoch 24/100\n",
      "\u001b[1m2/2\u001b[0m \u001b[32m━━━━━━━━━━━━━━━━━━━━\u001b[0m\u001b[37m\u001b[0m \u001b[1m0s\u001b[0m 5s/step - accuracy: 0.6488 - loss: 1.6565\n",
      "Epoch 24: val_accuracy improved from 0.49000 to 0.50500, saving model to C:/Users/chundie/Desktop/pfa fatima/best_model.h5\n"
     ]
    },
    {
     "name": "stderr",
     "output_type": "stream",
     "text": [
      "WARNING:absl:You are saving your model as an HDF5 file via `model.save()` or `keras.saving.save_model(model)`. This file format is considered legacy. We recommend using instead the native Keras format, e.g. `model.save('my_model.keras')` or `keras.saving.save_model(model, 'my_model.keras')`. \n"
     ]
    },
    {
     "name": "stdout",
     "output_type": "stream",
     "text": [
      "\u001b[1m2/2\u001b[0m \u001b[32m━━━━━━━━━━━━━━━━━━━━\u001b[0m\u001b[37m\u001b[0m \u001b[1m17s\u001b[0m 9s/step - accuracy: 0.6375 - loss: 1.6688 - val_accuracy: 0.5050 - val_loss: 2.1921 - learning_rate: 0.0010\n",
      "Epoch 25/100\n",
      "\u001b[1m2/2\u001b[0m \u001b[32m━━━━━━━━━━━━━━━━━━━━\u001b[0m\u001b[37m\u001b[0m \u001b[1m0s\u001b[0m 6s/step - accuracy: 0.6395 - loss: 1.6438 \n",
      "Epoch 25: val_accuracy did not improve from 0.50500\n",
      "\u001b[1m2/2\u001b[0m \u001b[32m━━━━━━━━━━━━━━━━━━━━\u001b[0m\u001b[37m\u001b[0m \u001b[1m20s\u001b[0m 11s/step - accuracy: 0.6350 - loss: 1.6523 - val_accuracy: 0.5050 - val_loss: 2.1698 - learning_rate: 0.0010\n",
      "Epoch 26/100\n",
      "\u001b[1m2/2\u001b[0m \u001b[32m━━━━━━━━━━━━━━━━━━━━\u001b[0m\u001b[37m\u001b[0m \u001b[1m0s\u001b[0m 6s/step - accuracy: 0.6649 - loss: 1.6377  \n",
      "Epoch 26: val_accuracy improved from 0.50500 to 0.54000, saving model to C:/Users/chundie/Desktop/pfa fatima/best_model.h5\n"
     ]
    },
    {
     "name": "stderr",
     "output_type": "stream",
     "text": [
      "WARNING:absl:You are saving your model as an HDF5 file via `model.save()` or `keras.saving.save_model(model)`. This file format is considered legacy. We recommend using instead the native Keras format, e.g. `model.save('my_model.keras')` or `keras.saving.save_model(model, 'my_model.keras')`. \n"
     ]
    },
    {
     "name": "stdout",
     "output_type": "stream",
     "text": [
      "\u001b[1m2/2\u001b[0m \u001b[32m━━━━━━━━━━━━━━━━━━━━\u001b[0m\u001b[37m\u001b[0m \u001b[1m22s\u001b[0m 11s/step - accuracy: 0.6737 - loss: 1.6221 - val_accuracy: 0.5400 - val_loss: 2.1579 - learning_rate: 0.0010\n",
      "Epoch 27/100\n",
      "\u001b[1m2/2\u001b[0m \u001b[32m━━━━━━━━━━━━━━━━━━━━\u001b[0m\u001b[37m\u001b[0m \u001b[1m0s\u001b[0m 5s/step - accuracy: 0.6640 - loss: 1.6227\n",
      "Epoch 27: val_accuracy did not improve from 0.54000\n",
      "\u001b[1m2/2\u001b[0m \u001b[32m━━━━━━━━━━━━━━━━━━━━\u001b[0m\u001b[37m\u001b[0m \u001b[1m17s\u001b[0m 8s/step - accuracy: 0.6600 - loss: 1.6148 - val_accuracy: 0.5250 - val_loss: 2.1393 - learning_rate: 0.0010\n",
      "Epoch 28/100\n",
      "\u001b[1m2/2\u001b[0m \u001b[32m━━━━━━━━━━━━━━━━━━━━\u001b[0m\u001b[37m\u001b[0m \u001b[1m0s\u001b[0m 5s/step - accuracy: 0.6215 - loss: 1.6353\n",
      "Epoch 28: val_accuracy did not improve from 0.54000\n",
      "\u001b[1m2/2\u001b[0m \u001b[32m━━━━━━━━━━━━━━━━━━━━\u001b[0m\u001b[37m\u001b[0m \u001b[1m16s\u001b[0m 8s/step - accuracy: 0.6350 - loss: 1.6272 - val_accuracy: 0.5250 - val_loss: 2.1234 - learning_rate: 0.0010\n",
      "Epoch 29/100\n",
      "\u001b[1m2/2\u001b[0m \u001b[32m━━━━━━━━━━━━━━━━━━━━\u001b[0m\u001b[37m\u001b[0m \u001b[1m0s\u001b[0m 5s/step - accuracy: 0.6854 - loss: 1.5517\n",
      "Epoch 29: val_accuracy did not improve from 0.54000\n",
      "\u001b[1m2/2\u001b[0m \u001b[32m━━━━━━━━━━━━━━━━━━━━\u001b[0m\u001b[37m\u001b[0m \u001b[1m16s\u001b[0m 8s/step - accuracy: 0.6888 - loss: 1.5550 - val_accuracy: 0.5100 - val_loss: 2.1179 - learning_rate: 0.0010\n",
      "Epoch 30/100\n",
      "\u001b[1m2/2\u001b[0m \u001b[32m━━━━━━━━━━━━━━━━━━━━\u001b[0m\u001b[37m\u001b[0m \u001b[1m0s\u001b[0m 5s/step - accuracy: 0.6839 - loss: 1.5833\n",
      "Epoch 30: val_accuracy did not improve from 0.54000\n",
      "\u001b[1m2/2\u001b[0m \u001b[32m━━━━━━━━━━━━━━━━━━━━\u001b[0m\u001b[37m\u001b[0m \u001b[1m16s\u001b[0m 8s/step - accuracy: 0.6837 - loss: 1.5707 - val_accuracy: 0.5150 - val_loss: 2.1111 - learning_rate: 0.0010\n",
      "Epoch 31/100\n",
      "\u001b[1m2/2\u001b[0m \u001b[32m━━━━━━━━━━━━━━━━━━━━\u001b[0m\u001b[37m\u001b[0m \u001b[1m0s\u001b[0m 5s/step - accuracy: 0.7132 - loss: 1.5020\n",
      "Epoch 31: val_accuracy did not improve from 0.54000\n",
      "\u001b[1m2/2\u001b[0m \u001b[32m━━━━━━━━━━━━━━━━━━━━\u001b[0m\u001b[37m\u001b[0m \u001b[1m16s\u001b[0m 8s/step - accuracy: 0.7025 - loss: 1.5096 - val_accuracy: 0.5150 - val_loss: 2.1018 - learning_rate: 0.0010\n",
      "Epoch 32/100\n",
      "\u001b[1m2/2\u001b[0m \u001b[32m━━━━━━━━━━━━━━━━━━━━\u001b[0m\u001b[37m\u001b[0m \u001b[1m0s\u001b[0m 5s/step - accuracy: 0.7024 - loss: 1.4918\n",
      "Epoch 32: val_accuracy did not improve from 0.54000\n",
      "\u001b[1m2/2\u001b[0m \u001b[32m━━━━━━━━━━━━━━━━━━━━\u001b[0m\u001b[37m\u001b[0m \u001b[1m16s\u001b[0m 8s/step - accuracy: 0.7088 - loss: 1.4955 - val_accuracy: 0.5200 - val_loss: 2.0955 - learning_rate: 0.0010\n",
      "Epoch 33/100\n",
      "\u001b[1m2/2\u001b[0m \u001b[32m━━━━━━━━━━━━━━━━━━━━\u001b[0m\u001b[37m\u001b[0m \u001b[1m0s\u001b[0m 5s/step - accuracy: 0.7147 - loss: 1.4759\n",
      "Epoch 33: val_accuracy did not improve from 0.54000\n",
      "\u001b[1m2/2\u001b[0m \u001b[32m━━━━━━━━━━━━━━━━━━━━\u001b[0m\u001b[37m\u001b[0m \u001b[1m16s\u001b[0m 8s/step - accuracy: 0.7175 - loss: 1.4701 - val_accuracy: 0.5100 - val_loss: 2.0788 - learning_rate: 0.0010\n",
      "Epoch 34/100\n",
      "\u001b[1m2/2\u001b[0m \u001b[32m━━━━━━━━━━━━━━━━━━━━\u001b[0m\u001b[37m\u001b[0m \u001b[1m0s\u001b[0m 7s/step - accuracy: 0.7390 - loss: 1.4487  \n",
      "Epoch 34: val_accuracy did not improve from 0.54000\n",
      "\u001b[1m2/2\u001b[0m \u001b[32m━━━━━━━━━━━━━━━━━━━━\u001b[0m\u001b[37m\u001b[0m \u001b[1m21s\u001b[0m 11s/step - accuracy: 0.7300 - loss: 1.4746 - val_accuracy: 0.5100 - val_loss: 2.0765 - learning_rate: 0.0010\n",
      "Epoch 35/100\n",
      "\u001b[1m2/2\u001b[0m \u001b[32m━━━━━━━━━━━━━━━━━━━━\u001b[0m\u001b[37m\u001b[0m \u001b[1m0s\u001b[0m 6s/step - accuracy: 0.7391 - loss: 1.4483  \n",
      "Epoch 35: val_accuracy did not improve from 0.54000\n",
      "\u001b[1m2/2\u001b[0m \u001b[32m━━━━━━━━━━━━━━━━━━━━\u001b[0m\u001b[37m\u001b[0m \u001b[1m21s\u001b[0m 10s/step - accuracy: 0.7362 - loss: 1.4478 - val_accuracy: 0.5000 - val_loss: 2.0715 - learning_rate: 0.0010\n",
      "Epoch 36/100\n",
      "\u001b[1m2/2\u001b[0m \u001b[32m━━━━━━━━━━━━━━━━━━━━\u001b[0m\u001b[37m\u001b[0m \u001b[1m0s\u001b[0m 6s/step - accuracy: 0.7425 - loss: 1.4283  \n",
      "Epoch 36: val_accuracy did not improve from 0.54000\n",
      "\u001b[1m2/2\u001b[0m \u001b[32m━━━━━━━━━━━━━━━━━━━━\u001b[0m\u001b[37m\u001b[0m \u001b[1m39s\u001b[0m 10s/step - accuracy: 0.7450 - loss: 1.4238 - val_accuracy: 0.5300 - val_loss: 2.0441 - learning_rate: 0.0010\n",
      "Epoch 37/100\n",
      "\u001b[1m2/2\u001b[0m \u001b[32m━━━━━━━━━━━━━━━━━━━━\u001b[0m\u001b[37m\u001b[0m \u001b[1m0s\u001b[0m 5s/step - accuracy: 0.7725 - loss: 1.3800\n",
      "Epoch 37: val_accuracy did not improve from 0.54000\n",
      "\u001b[1m2/2\u001b[0m \u001b[32m━━━━━━━━━━━━━━━━━━━━\u001b[0m\u001b[37m\u001b[0m \u001b[1m18s\u001b[0m 9s/step - accuracy: 0.7650 - loss: 1.3958 - val_accuracy: 0.5300 - val_loss: 2.0443 - learning_rate: 0.0010\n",
      "Epoch 38/100\n",
      "\u001b[1m2/2\u001b[0m \u001b[32m━━━━━━━━━━━━━━━━━━━━\u001b[0m\u001b[37m\u001b[0m \u001b[1m0s\u001b[0m 7s/step - accuracy: 0.7448 - loss: 1.3960  \n",
      "Epoch 38: val_accuracy improved from 0.54000 to 0.55500, saving model to C:/Users/chundie/Desktop/pfa fatima/best_model.h5\n"
     ]
    },
    {
     "name": "stderr",
     "output_type": "stream",
     "text": [
      "WARNING:absl:You are saving your model as an HDF5 file via `model.save()` or `keras.saving.save_model(model)`. This file format is considered legacy. We recommend using instead the native Keras format, e.g. `model.save('my_model.keras')` or `keras.saving.save_model(model, 'my_model.keras')`. \n"
     ]
    },
    {
     "name": "stdout",
     "output_type": "stream",
     "text": [
      "\u001b[1m2/2\u001b[0m \u001b[32m━━━━━━━━━━━━━━━━━━━━\u001b[0m\u001b[37m\u001b[0m \u001b[1m23s\u001b[0m 12s/step - accuracy: 0.7475 - loss: 1.3878 - val_accuracy: 0.5550 - val_loss: 2.0307 - learning_rate: 0.0010\n",
      "Epoch 39/100\n",
      "\u001b[1m2/2\u001b[0m \u001b[32m━━━━━━━━━━━━━━━━━━━━\u001b[0m\u001b[37m\u001b[0m \u001b[1m0s\u001b[0m 6s/step - accuracy: 0.7665 - loss: 1.3418  \n",
      "Epoch 39: val_accuracy improved from 0.55500 to 0.57500, saving model to C:/Users/chundie/Desktop/pfa fatima/best_model.h5\n"
     ]
    },
    {
     "name": "stderr",
     "output_type": "stream",
     "text": [
      "WARNING:absl:You are saving your model as an HDF5 file via `model.save()` or `keras.saving.save_model(model)`. This file format is considered legacy. We recommend using instead the native Keras format, e.g. `model.save('my_model.keras')` or `keras.saving.save_model(model, 'my_model.keras')`. \n"
     ]
    },
    {
     "name": "stdout",
     "output_type": "stream",
     "text": [
      "\u001b[1m2/2\u001b[0m \u001b[32m━━━━━━━━━━━━━━━━━━━━\u001b[0m\u001b[37m\u001b[0m \u001b[1m24s\u001b[0m 12s/step - accuracy: 0.7650 - loss: 1.3466 - val_accuracy: 0.5750 - val_loss: 1.9861 - learning_rate: 0.0010\n",
      "Epoch 40/100\n",
      "\u001b[1m2/2\u001b[0m \u001b[32m━━━━━━━━━━━━━━━━━━━━\u001b[0m\u001b[37m\u001b[0m \u001b[1m0s\u001b[0m 5s/step - accuracy: 0.7731 - loss: 1.3334 \n",
      "Epoch 40: val_accuracy did not improve from 0.57500\n",
      "\u001b[1m2/2\u001b[0m \u001b[32m━━━━━━━━━━━━━━━━━━━━\u001b[0m\u001b[37m\u001b[0m \u001b[1m19s\u001b[0m 9s/step - accuracy: 0.7763 - loss: 1.3342 - val_accuracy: 0.5500 - val_loss: 1.9729 - learning_rate: 0.0010\n",
      "Epoch 41/100\n",
      "\u001b[1m2/2\u001b[0m \u001b[32m━━━━━━━━━━━━━━━━━━━━\u001b[0m\u001b[37m\u001b[0m \u001b[1m0s\u001b[0m 5s/step - accuracy: 0.7854 - loss: 1.2910\n",
      "Epoch 41: val_accuracy did not improve from 0.57500\n",
      "\u001b[1m2/2\u001b[0m \u001b[32m━━━━━━━━━━━━━━━━━━━━\u001b[0m\u001b[37m\u001b[0m \u001b[1m18s\u001b[0m 9s/step - accuracy: 0.7887 - loss: 1.2788 - val_accuracy: 0.5600 - val_loss: 1.9807 - learning_rate: 0.0010\n",
      "Epoch 42/100\n",
      "\u001b[1m2/2\u001b[0m \u001b[32m━━━━━━━━━━━━━━━━━━━━\u001b[0m\u001b[37m\u001b[0m \u001b[1m0s\u001b[0m 5s/step - accuracy: 0.7806 - loss: 1.3037\n",
      "Epoch 42: val_accuracy did not improve from 0.57500\n",
      "\u001b[1m2/2\u001b[0m \u001b[32m━━━━━━━━━━━━━━━━━━━━\u001b[0m\u001b[37m\u001b[0m \u001b[1m17s\u001b[0m 9s/step - accuracy: 0.7812 - loss: 1.2966 - val_accuracy: 0.5500 - val_loss: 1.9989 - learning_rate: 0.0010\n",
      "Epoch 43/100\n",
      "\u001b[1m2/2\u001b[0m \u001b[32m━━━━━━━━━━━━━━━━━━━━\u001b[0m\u001b[37m\u001b[0m \u001b[1m0s\u001b[0m 5s/step - accuracy: 0.8191 - loss: 1.2422\n",
      "Epoch 43: val_accuracy did not improve from 0.57500\n",
      "\u001b[1m2/2\u001b[0m \u001b[32m━━━━━━━━━━━━━━━━━━━━\u001b[0m\u001b[37m\u001b[0m \u001b[1m17s\u001b[0m 9s/step - accuracy: 0.8163 - loss: 1.2476 - val_accuracy: 0.5350 - val_loss: 2.0526 - learning_rate: 0.0010\n",
      "Epoch 44/100\n",
      "\u001b[1m2/2\u001b[0m \u001b[32m━━━━━━━━━━━━━━━━━━━━\u001b[0m\u001b[37m\u001b[0m \u001b[1m0s\u001b[0m 5s/step - accuracy: 0.8135 - loss: 1.2428\n",
      "Epoch 44: val_accuracy did not improve from 0.57500\n",
      "\u001b[1m2/2\u001b[0m \u001b[32m━━━━━━━━━━━━━━━━━━━━\u001b[0m\u001b[37m\u001b[0m \u001b[1m18s\u001b[0m 9s/step - accuracy: 0.8150 - loss: 1.2317 - val_accuracy: 0.5500 - val_loss: 2.0470 - learning_rate: 0.0010\n",
      "Epoch 45/100\n",
      "\u001b[1m2/2\u001b[0m \u001b[32m━━━━━━━━━━━━━━━━━━━━\u001b[0m\u001b[37m\u001b[0m \u001b[1m0s\u001b[0m 5s/step - accuracy: 0.8546 - loss: 1.1534\n",
      "Epoch 45: val_accuracy did not improve from 0.57500\n",
      "\u001b[1m2/2\u001b[0m \u001b[32m━━━━━━━━━━━━━━━━━━━━\u001b[0m\u001b[37m\u001b[0m \u001b[1m17s\u001b[0m 9s/step - accuracy: 0.8512 - loss: 1.1721 - val_accuracy: 0.5450 - val_loss: 2.0065 - learning_rate: 0.0010\n",
      "Epoch 46/100\n",
      "\u001b[1m2/2\u001b[0m \u001b[32m━━━━━━━━━━━━━━━━━━━━\u001b[0m\u001b[37m\u001b[0m \u001b[1m0s\u001b[0m 5s/step - accuracy: 0.8514 - loss: 1.1516\n",
      "Epoch 46: val_accuracy did not improve from 0.57500\n",
      "\u001b[1m2/2\u001b[0m \u001b[32m━━━━━━━━━━━━━━━━━━━━\u001b[0m\u001b[37m\u001b[0m \u001b[1m18s\u001b[0m 9s/step - accuracy: 0.8487 - loss: 1.1535 - val_accuracy: 0.5350 - val_loss: 1.9751 - learning_rate: 0.0010\n",
      "Epoch 47/100\n",
      "\u001b[1m2/2\u001b[0m \u001b[32m━━━━━━━━━━━━━━━━━━━━\u001b[0m\u001b[37m\u001b[0m \u001b[1m0s\u001b[0m 5s/step - accuracy: 0.8554 - loss: 1.1457\n",
      "Epoch 47: val_accuracy did not improve from 0.57500\n",
      "\u001b[1m2/2\u001b[0m \u001b[32m━━━━━━━━━━━━━━━━━━━━\u001b[0m\u001b[37m\u001b[0m \u001b[1m18s\u001b[0m 9s/step - accuracy: 0.8587 - loss: 1.1410 - val_accuracy: 0.5350 - val_loss: 1.9641 - learning_rate: 0.0010\n",
      "Epoch 48/100\n",
      "\u001b[1m2/2\u001b[0m \u001b[32m━━━━━━━━━━━━━━━━━━━━\u001b[0m\u001b[37m\u001b[0m \u001b[1m0s\u001b[0m 5s/step - accuracy: 0.8839 - loss: 1.0951\n",
      "Epoch 48: val_accuracy did not improve from 0.57500\n",
      "\u001b[1m2/2\u001b[0m \u001b[32m━━━━━━━━━━━━━━━━━━━━\u001b[0m\u001b[37m\u001b[0m \u001b[1m18s\u001b[0m 9s/step - accuracy: 0.8737 - loss: 1.1037 - val_accuracy: 0.5650 - val_loss: 1.9450 - learning_rate: 0.0010\n",
      "Epoch 49/100\n",
      "\u001b[1m2/2\u001b[0m \u001b[32m━━━━━━━━━━━━━━━━━━━━\u001b[0m\u001b[37m\u001b[0m \u001b[1m0s\u001b[0m 5s/step - accuracy: 0.8804 - loss: 1.1016\n",
      "Epoch 49: val_accuracy did not improve from 0.57500\n",
      "\u001b[1m2/2\u001b[0m \u001b[32m━━━━━━━━━━━━━━━━━━━━\u001b[0m\u001b[37m\u001b[0m \u001b[1m18s\u001b[0m 9s/step - accuracy: 0.8788 - loss: 1.1006 - val_accuracy: 0.5400 - val_loss: 1.9993 - learning_rate: 0.0010\n",
      "Epoch 50/100\n",
      "\u001b[1m2/2\u001b[0m \u001b[32m━━━━━━━━━━━━━━━━━━━━\u001b[0m\u001b[37m\u001b[0m \u001b[1m0s\u001b[0m 5s/step - accuracy: 0.9132 - loss: 1.0292\n",
      "Epoch 50: val_accuracy did not improve from 0.57500\n",
      "\u001b[1m2/2\u001b[0m \u001b[32m━━━━━━━━━━━━━━━━━━━━\u001b[0m\u001b[37m\u001b[0m \u001b[1m18s\u001b[0m 9s/step - accuracy: 0.9125 - loss: 1.0302 - val_accuracy: 0.5550 - val_loss: 1.9927 - learning_rate: 0.0010\n",
      "Epoch 51/100\n",
      "\u001b[1m2/2\u001b[0m \u001b[32m━━━━━━━━━━━━━━━━━━━━\u001b[0m\u001b[37m\u001b[0m \u001b[1m0s\u001b[0m 5s/step - accuracy: 0.9082 - loss: 1.0312\n",
      "Epoch 51: val_accuracy did not improve from 0.57500\n",
      "\u001b[1m2/2\u001b[0m \u001b[32m━━━━━━━━━━━━━━━━━━━━\u001b[0m\u001b[37m\u001b[0m \u001b[1m18s\u001b[0m 9s/step - accuracy: 0.9025 - loss: 1.0357 - val_accuracy: 0.5350 - val_loss: 2.0542 - learning_rate: 0.0010\n",
      "Epoch 52/100\n",
      "\u001b[1m2/2\u001b[0m \u001b[32m━━━━━━━━━━━━━━━━━━━━\u001b[0m\u001b[37m\u001b[0m \u001b[1m0s\u001b[0m 5s/step - accuracy: 0.8798 - loss: 1.0454\n",
      "Epoch 52: val_accuracy did not improve from 0.57500\n",
      "\u001b[1m2/2\u001b[0m \u001b[32m━━━━━━━━━━━━━━━━━━━━\u001b[0m\u001b[37m\u001b[0m \u001b[1m18s\u001b[0m 9s/step - accuracy: 0.8875 - loss: 1.0330 - val_accuracy: 0.5600 - val_loss: 1.9783 - learning_rate: 0.0010\n",
      "Epoch 53/100\n",
      "\u001b[1m2/2\u001b[0m \u001b[32m━━━━━━━━━━━━━━━━━━━━\u001b[0m\u001b[37m\u001b[0m \u001b[1m0s\u001b[0m 5s/step - accuracy: 0.9150 - loss: 0.9930\n",
      "Epoch 53: val_accuracy did not improve from 0.57500\n",
      "\u001b[1m2/2\u001b[0m \u001b[32m━━━━━━━━━━━━━━━━━━━━\u001b[0m\u001b[37m\u001b[0m \u001b[1m18s\u001b[0m 9s/step - accuracy: 0.9100 - loss: 1.0056 - val_accuracy: 0.5550 - val_loss: 1.9739 - learning_rate: 0.0010\n",
      "Epoch 54/100\n",
      "\u001b[1m2/2\u001b[0m \u001b[32m━━━━━━━━━━━━━━━━━━━━\u001b[0m\u001b[37m\u001b[0m \u001b[1m0s\u001b[0m 5s/step - accuracy: 0.9185 - loss: 0.9740\n",
      "Epoch 54: val_accuracy did not improve from 0.57500\n",
      "\u001b[1m2/2\u001b[0m \u001b[32m━━━━━━━━━━━━━━━━━━━━\u001b[0m\u001b[37m\u001b[0m \u001b[1m18s\u001b[0m 9s/step - accuracy: 0.9150 - loss: 0.9797 - val_accuracy: 0.5700 - val_loss: 1.8711 - learning_rate: 0.0010\n",
      "Epoch 55/100\n",
      "\u001b[1m2/2\u001b[0m \u001b[32m━━━━━━━━━━━━━━━━━━━━\u001b[0m\u001b[37m\u001b[0m \u001b[1m0s\u001b[0m 5s/step - accuracy: 0.9210 - loss: 0.9396\n",
      "Epoch 55: val_accuracy did not improve from 0.57500\n",
      "\u001b[1m2/2\u001b[0m \u001b[32m━━━━━━━━━━━━━━━━━━━━\u001b[0m\u001b[37m\u001b[0m \u001b[1m18s\u001b[0m 9s/step - accuracy: 0.9200 - loss: 0.9471 - val_accuracy: 0.5550 - val_loss: 1.9148 - learning_rate: 0.0010\n",
      "Epoch 56/100\n",
      "\u001b[1m2/2\u001b[0m \u001b[32m━━━━━━━━━━━━━━━━━━━━\u001b[0m\u001b[37m\u001b[0m \u001b[1m0s\u001b[0m 5s/step - accuracy: 0.9366 - loss: 0.9273\n",
      "Epoch 56: val_accuracy did not improve from 0.57500\n",
      "\u001b[1m2/2\u001b[0m \u001b[32m━━━━━━━━━━━━━━━━━━━━\u001b[0m\u001b[37m\u001b[0m \u001b[1m18s\u001b[0m 9s/step - accuracy: 0.9312 - loss: 0.9290 - val_accuracy: 0.5400 - val_loss: 1.8931 - learning_rate: 0.0010\n",
      "Epoch 57/100\n",
      "\u001b[1m2/2\u001b[0m \u001b[32m━━━━━━━━━━━━━━━━━━━━\u001b[0m\u001b[37m\u001b[0m \u001b[1m0s\u001b[0m 5s/step - accuracy: 0.9245 - loss: 0.9227\n",
      "Epoch 57: val_accuracy did not improve from 0.57500\n",
      "\u001b[1m2/2\u001b[0m \u001b[32m━━━━━━━━━━━━━━━━━━━━\u001b[0m\u001b[37m\u001b[0m \u001b[1m18s\u001b[0m 9s/step - accuracy: 0.9250 - loss: 0.9238 - val_accuracy: 0.5550 - val_loss: 1.8628 - learning_rate: 0.0010\n",
      "Epoch 58/100\n",
      "\u001b[1m2/2\u001b[0m \u001b[32m━━━━━━━━━━━━━━━━━━━━\u001b[0m\u001b[37m\u001b[0m \u001b[1m0s\u001b[0m 5s/step - accuracy: 0.9455 - loss: 0.8946\n",
      "Epoch 58: val_accuracy did not improve from 0.57500\n",
      "\u001b[1m2/2\u001b[0m \u001b[32m━━━━━━━━━━━━━━━━━━━━\u001b[0m\u001b[37m\u001b[0m \u001b[1m18s\u001b[0m 9s/step - accuracy: 0.9450 - loss: 0.8919 - val_accuracy: 0.5600 - val_loss: 1.8615 - learning_rate: 0.0010\n",
      "Epoch 59/100\n",
      "\u001b[1m2/2\u001b[0m \u001b[32m━━━━━━━━━━━━━━━━━━━━\u001b[0m\u001b[37m\u001b[0m \u001b[1m0s\u001b[0m 5s/step - accuracy: 0.9404 - loss: 0.8890\n",
      "Epoch 59: val_accuracy did not improve from 0.57500\n",
      "\u001b[1m2/2\u001b[0m \u001b[32m━━━━━━━━━━━━━━━━━━━━\u001b[0m\u001b[37m\u001b[0m \u001b[1m18s\u001b[0m 9s/step - accuracy: 0.9388 - loss: 0.8997 - val_accuracy: 0.5700 - val_loss: 1.8183 - learning_rate: 0.0010\n",
      "Epoch 60/100\n",
      "\u001b[1m2/2\u001b[0m \u001b[32m━━━━━━━━━━━━━━━━━━━━\u001b[0m\u001b[37m\u001b[0m \u001b[1m0s\u001b[0m 5s/step - accuracy: 0.9505 - loss: 0.8633\n",
      "Epoch 60: val_accuracy did not improve from 0.57500\n",
      "\u001b[1m2/2\u001b[0m \u001b[32m━━━━━━━━━━━━━━━━━━━━\u001b[0m\u001b[37m\u001b[0m \u001b[1m17s\u001b[0m 9s/step - accuracy: 0.9550 - loss: 0.8579 - val_accuracy: 0.5650 - val_loss: 1.8527 - learning_rate: 0.0010\n",
      "Epoch 61/100\n",
      "\u001b[1m2/2\u001b[0m \u001b[32m━━━━━━━━━━━━━━━━━━━━\u001b[0m\u001b[37m\u001b[0m \u001b[1m0s\u001b[0m 5s/step - accuracy: 0.9541 - loss: 0.8624\n",
      "Epoch 61: val_accuracy improved from 0.57500 to 0.58000, saving model to C:/Users/chundie/Desktop/pfa fatima/best_model.h5\n"
     ]
    },
    {
     "name": "stderr",
     "output_type": "stream",
     "text": [
      "WARNING:absl:You are saving your model as an HDF5 file via `model.save()` or `keras.saving.save_model(model)`. This file format is considered legacy. We recommend using instead the native Keras format, e.g. `model.save('my_model.keras')` or `keras.saving.save_model(model, 'my_model.keras')`. \n"
     ]
    },
    {
     "name": "stdout",
     "output_type": "stream",
     "text": [
      "\u001b[1m2/2\u001b[0m \u001b[32m━━━━━━━━━━━━━━━━━━━━\u001b[0m\u001b[37m\u001b[0m \u001b[1m19s\u001b[0m 10s/step - accuracy: 0.9563 - loss: 0.8604 - val_accuracy: 0.5800 - val_loss: 1.7769 - learning_rate: 0.0010\n",
      "Epoch 62/100\n",
      "\u001b[1m2/2\u001b[0m \u001b[32m━━━━━━━━━━━━━━━━━━━━\u001b[0m\u001b[37m\u001b[0m \u001b[1m0s\u001b[0m 5s/step - accuracy: 0.9638 - loss: 0.8200\n",
      "Epoch 62: val_accuracy improved from 0.58000 to 0.59500, saving model to C:/Users/chundie/Desktop/pfa fatima/best_model.h5\n"
     ]
    },
    {
     "name": "stderr",
     "output_type": "stream",
     "text": [
      "WARNING:absl:You are saving your model as an HDF5 file via `model.save()` or `keras.saving.save_model(model)`. This file format is considered legacy. We recommend using instead the native Keras format, e.g. `model.save('my_model.keras')` or `keras.saving.save_model(model, 'my_model.keras')`. \n"
     ]
    },
    {
     "name": "stdout",
     "output_type": "stream",
     "text": [
      "\u001b[1m2/2\u001b[0m \u001b[32m━━━━━━━━━━━━━━━━━━━━\u001b[0m\u001b[37m\u001b[0m \u001b[1m19s\u001b[0m 10s/step - accuracy: 0.9575 - loss: 0.8329 - val_accuracy: 0.5950 - val_loss: 1.7370 - learning_rate: 0.0010\n",
      "Epoch 63/100\n",
      "\u001b[1m2/2\u001b[0m \u001b[32m━━━━━━━━━━━━━━━━━━━━\u001b[0m\u001b[37m\u001b[0m \u001b[1m0s\u001b[0m 5s/step - accuracy: 0.9664 - loss: 0.8128\n",
      "Epoch 63: val_accuracy did not improve from 0.59500\n",
      "\u001b[1m2/2\u001b[0m \u001b[32m━━━━━━━━━━━━━━━━━━━━\u001b[0m\u001b[37m\u001b[0m \u001b[1m18s\u001b[0m 9s/step - accuracy: 0.9588 - loss: 0.8350 - val_accuracy: 0.5850 - val_loss: 1.8165 - learning_rate: 0.0010\n",
      "Epoch 64/100\n",
      "\u001b[1m2/2\u001b[0m \u001b[32m━━━━━━━━━━━━━━━━━━━━\u001b[0m\u001b[37m\u001b[0m \u001b[1m0s\u001b[0m 5s/step - accuracy: 0.9601 - loss: 0.8010\n",
      "Epoch 64: val_accuracy did not improve from 0.59500\n",
      "\u001b[1m2/2\u001b[0m \u001b[32m━━━━━━━━━━━━━━━━━━━━\u001b[0m\u001b[37m\u001b[0m \u001b[1m18s\u001b[0m 9s/step - accuracy: 0.9563 - loss: 0.8083 - val_accuracy: 0.5950 - val_loss: 1.8380 - learning_rate: 0.0010\n",
      "Epoch 65/100\n",
      "\u001b[1m2/2\u001b[0m \u001b[32m━━━━━━━━━━━━━━━━━━━━\u001b[0m\u001b[37m\u001b[0m \u001b[1m0s\u001b[0m 6s/step - accuracy: 0.9564 - loss: 0.8355\n",
      "Epoch 65: val_accuracy improved from 0.59500 to 0.61500, saving model to C:/Users/chundie/Desktop/pfa fatima/best_model.h5\n"
     ]
    },
    {
     "name": "stderr",
     "output_type": "stream",
     "text": [
      "WARNING:absl:You are saving your model as an HDF5 file via `model.save()` or `keras.saving.save_model(model)`. This file format is considered legacy. We recommend using instead the native Keras format, e.g. `model.save('my_model.keras')` or `keras.saving.save_model(model, 'my_model.keras')`. \n"
     ]
    },
    {
     "name": "stdout",
     "output_type": "stream",
     "text": [
      "\u001b[1m2/2\u001b[0m \u001b[32m━━━━━━━━━━━━━━━━━━━━\u001b[0m\u001b[37m\u001b[0m \u001b[1m19s\u001b[0m 10s/step - accuracy: 0.9588 - loss: 0.8286 - val_accuracy: 0.6150 - val_loss: 1.7519 - learning_rate: 0.0010\n",
      "Epoch 66/100\n",
      "\u001b[1m2/2\u001b[0m \u001b[32m━━━━━━━━━━━━━━━━━━━━\u001b[0m\u001b[37m\u001b[0m \u001b[1m0s\u001b[0m 6s/step - accuracy: 0.9649 - loss: 0.7956\n",
      "Epoch 66: val_accuracy improved from 0.61500 to 0.62500, saving model to C:/Users/chundie/Desktop/pfa fatima/best_model.h5\n"
     ]
    },
    {
     "name": "stderr",
     "output_type": "stream",
     "text": [
      "WARNING:absl:You are saving your model as an HDF5 file via `model.save()` or `keras.saving.save_model(model)`. This file format is considered legacy. We recommend using instead the native Keras format, e.g. `model.save('my_model.keras')` or `keras.saving.save_model(model, 'my_model.keras')`. \n"
     ]
    },
    {
     "name": "stdout",
     "output_type": "stream",
     "text": [
      "\u001b[1m2/2\u001b[0m \u001b[32m━━━━━━━━━━━━━━━━━━━━\u001b[0m\u001b[37m\u001b[0m \u001b[1m19s\u001b[0m 10s/step - accuracy: 0.9638 - loss: 0.7931 - val_accuracy: 0.6250 - val_loss: 1.6479 - learning_rate: 0.0010\n",
      "Epoch 67/100\n",
      "\u001b[1m2/2\u001b[0m \u001b[32m━━━━━━━━━━━━━━━━━━━━\u001b[0m\u001b[37m\u001b[0m \u001b[1m0s\u001b[0m 6s/step - accuracy: 0.9697 - loss: 0.7959\n",
      "Epoch 67: val_accuracy did not improve from 0.62500\n",
      "\u001b[1m2/2\u001b[0m \u001b[32m━━━━━━━━━━━━━━━━━━━━\u001b[0m\u001b[37m\u001b[0m \u001b[1m18s\u001b[0m 9s/step - accuracy: 0.9675 - loss: 0.7971 - val_accuracy: 0.6050 - val_loss: 1.7018 - learning_rate: 0.0010\n",
      "Epoch 68/100\n",
      "\u001b[1m2/2\u001b[0m \u001b[32m━━━━━━━━━━━━━━━━━━━━\u001b[0m\u001b[37m\u001b[0m \u001b[1m0s\u001b[0m 5s/step - accuracy: 0.9646 - loss: 0.7928\n",
      "Epoch 68: val_accuracy did not improve from 0.62500\n",
      "\u001b[1m2/2\u001b[0m \u001b[32m━━━━━━━━━━━━━━━━━━━━\u001b[0m\u001b[37m\u001b[0m \u001b[1m18s\u001b[0m 9s/step - accuracy: 0.9613 - loss: 0.7992 - val_accuracy: 0.5750 - val_loss: 1.8177 - learning_rate: 0.0010\n",
      "Epoch 69/100\n",
      "\u001b[1m2/2\u001b[0m \u001b[32m━━━━━━━━━━━━━━━━━━━━\u001b[0m\u001b[37m\u001b[0m \u001b[1m0s\u001b[0m 5s/step - accuracy: 0.9663 - loss: 0.7799\n",
      "Epoch 69: val_accuracy did not improve from 0.62500\n",
      "\u001b[1m2/2\u001b[0m \u001b[32m━━━━━━━━━━━━━━━━━━━━\u001b[0m\u001b[37m\u001b[0m \u001b[1m18s\u001b[0m 9s/step - accuracy: 0.9625 - loss: 0.7856 - val_accuracy: 0.6000 - val_loss: 1.7344 - learning_rate: 0.0010\n",
      "Epoch 70/100\n",
      "\u001b[1m2/2\u001b[0m \u001b[32m━━━━━━━━━━━━━━━━━━━━\u001b[0m\u001b[37m\u001b[0m \u001b[1m0s\u001b[0m 5s/step - accuracy: 0.9753 - loss: 0.7763\n",
      "Epoch 70: val_accuracy did not improve from 0.62500\n",
      "\u001b[1m2/2\u001b[0m \u001b[32m━━━━━━━━━━━━━━━━━━━━\u001b[0m\u001b[37m\u001b[0m \u001b[1m18s\u001b[0m 9s/step - accuracy: 0.9725 - loss: 0.7802 - val_accuracy: 0.5850 - val_loss: 1.8089 - learning_rate: 0.0010\n",
      "Epoch 71/100\n",
      "\u001b[1m2/2\u001b[0m \u001b[32m━━━━━━━━━━━━━━━━━━━━\u001b[0m\u001b[37m\u001b[0m \u001b[1m0s\u001b[0m 5s/step - accuracy: 0.9718 - loss: 0.7749\n",
      "Epoch 71: val_accuracy did not improve from 0.62500\n",
      "\u001b[1m2/2\u001b[0m \u001b[32m━━━━━━━━━━━━━━━━━━━━\u001b[0m\u001b[37m\u001b[0m \u001b[1m18s\u001b[0m 9s/step - accuracy: 0.9675 - loss: 0.7798 - val_accuracy: 0.5800 - val_loss: 2.0060 - learning_rate: 0.0010\n",
      "Epoch 72/100\n",
      "\u001b[1m2/2\u001b[0m \u001b[32m━━━━━━━━━━━━━━━━━━━━\u001b[0m\u001b[37m\u001b[0m \u001b[1m0s\u001b[0m 5s/step - accuracy: 0.9726 - loss: 0.7470\n",
      "Epoch 72: val_accuracy did not improve from 0.62500\n",
      "\u001b[1m2/2\u001b[0m \u001b[32m━━━━━━━━━━━━━━━━━━━━\u001b[0m\u001b[37m\u001b[0m \u001b[1m18s\u001b[0m 9s/step - accuracy: 0.9712 - loss: 0.7479 - val_accuracy: 0.5600 - val_loss: 2.1467 - learning_rate: 0.0010\n",
      "Epoch 73/100\n",
      "\u001b[1m2/2\u001b[0m \u001b[32m━━━━━━━━━━━━━━━━━━━━\u001b[0m\u001b[37m\u001b[0m \u001b[1m0s\u001b[0m 5s/step - accuracy: 0.9627 - loss: 0.7637\n",
      "Epoch 73: val_accuracy did not improve from 0.62500\n",
      "\u001b[1m2/2\u001b[0m \u001b[32m━━━━━━━━━━━━━━━━━━━━\u001b[0m\u001b[37m\u001b[0m \u001b[1m18s\u001b[0m 9s/step - accuracy: 0.9675 - loss: 0.7533 - val_accuracy: 0.6000 - val_loss: 1.8257 - learning_rate: 0.0010\n",
      "Epoch 74/100\n",
      "\u001b[1m2/2\u001b[0m \u001b[32m━━━━━━━━━━━━━━━━━━━━\u001b[0m\u001b[37m\u001b[0m \u001b[1m0s\u001b[0m 5s/step - accuracy: 0.9706 - loss: 0.7545\n",
      "Epoch 74: val_accuracy did not improve from 0.62500\n",
      "\u001b[1m2/2\u001b[0m \u001b[32m━━━━━━━━━━━━━━━━━━━━\u001b[0m\u001b[37m\u001b[0m \u001b[1m18s\u001b[0m 9s/step - accuracy: 0.9712 - loss: 0.7510 - val_accuracy: 0.5950 - val_loss: 1.8081 - learning_rate: 0.0010\n",
      "Epoch 75/100\n",
      "\u001b[1m2/2\u001b[0m \u001b[32m━━━━━━━━━━━━━━━━━━━━\u001b[0m\u001b[37m\u001b[0m \u001b[1m0s\u001b[0m 5s/step - accuracy: 0.9741 - loss: 0.7437\n",
      "Epoch 75: val_accuracy did not improve from 0.62500\n",
      "\u001b[1m2/2\u001b[0m \u001b[32m━━━━━━━━━━━━━━━━━━━━\u001b[0m\u001b[37m\u001b[0m \u001b[1m18s\u001b[0m 9s/step - accuracy: 0.9762 - loss: 0.7413 - val_accuracy: 0.6050 - val_loss: 1.9763 - learning_rate: 0.0010\n",
      "Epoch 76/100\n",
      "\u001b[1m2/2\u001b[0m \u001b[32m━━━━━━━━━━━━━━━━━━━━\u001b[0m\u001b[37m\u001b[0m \u001b[1m0s\u001b[0m 5s/step - accuracy: 0.9641 - loss: 0.7360\n",
      "Epoch 76: val_accuracy did not improve from 0.62500\n",
      "\u001b[1m2/2\u001b[0m \u001b[32m━━━━━━━━━━━━━━━━━━━━\u001b[0m\u001b[37m\u001b[0m \u001b[1m18s\u001b[0m 9s/step - accuracy: 0.9663 - loss: 0.7318 - val_accuracy: 0.5650 - val_loss: 2.1426 - learning_rate: 0.0010\n",
      "Epoch 77/100\n",
      "\u001b[1m2/2\u001b[0m \u001b[32m━━━━━━━━━━━━━━━━━━━━\u001b[0m\u001b[37m\u001b[0m \u001b[1m0s\u001b[0m 5s/step - accuracy: 0.9753 - loss: 0.7346\n",
      "Epoch 77: val_accuracy did not improve from 0.62500\n",
      "\u001b[1m2/2\u001b[0m \u001b[32m━━━━━━━━━━━━━━━━━━━━\u001b[0m\u001b[37m\u001b[0m \u001b[1m18s\u001b[0m 9s/step - accuracy: 0.9725 - loss: 0.7404 - val_accuracy: 0.5700 - val_loss: 2.1270 - learning_rate: 1.0000e-04\n",
      "Epoch 78/100\n",
      "\u001b[1m2/2\u001b[0m \u001b[32m━━━━━━━━━━━━━━━━━━━━\u001b[0m\u001b[37m\u001b[0m \u001b[1m0s\u001b[0m 5s/step - accuracy: 0.9784 - loss: 0.7102\n",
      "Epoch 78: val_accuracy did not improve from 0.62500\n",
      "\u001b[1m2/2\u001b[0m \u001b[32m━━━━━━━━━━━━━━━━━━━━\u001b[0m\u001b[37m\u001b[0m \u001b[1m18s\u001b[0m 9s/step - accuracy: 0.9787 - loss: 0.7105 - val_accuracy: 0.5700 - val_loss: 2.0925 - learning_rate: 1.0000e-04\n",
      "Epoch 79/100\n",
      "\u001b[1m2/2\u001b[0m \u001b[32m━━━━━━━━━━━━━━━━━━━━\u001b[0m\u001b[37m\u001b[0m \u001b[1m0s\u001b[0m 5s/step - accuracy: 0.9684 - loss: 0.7318\n",
      "Epoch 79: val_accuracy did not improve from 0.62500\n",
      "\u001b[1m2/2\u001b[0m \u001b[32m━━━━━━━━━━━━━━━━━━━━\u001b[0m\u001b[37m\u001b[0m \u001b[1m18s\u001b[0m 9s/step - accuracy: 0.9688 - loss: 0.7327 - val_accuracy: 0.5650 - val_loss: 2.0539 - learning_rate: 1.0000e-04\n",
      "Epoch 80/100\n",
      "\u001b[1m2/2\u001b[0m \u001b[32m━━━━━━━━━━━━━━━━━━━━\u001b[0m\u001b[37m\u001b[0m \u001b[1m0s\u001b[0m 5s/step - accuracy: 0.9651 - loss: 0.7328\n",
      "Epoch 80: val_accuracy did not improve from 0.62500\n",
      "\u001b[1m2/2\u001b[0m \u001b[32m━━━━━━━━━━━━━━━━━━━━\u001b[0m\u001b[37m\u001b[0m \u001b[1m18s\u001b[0m 9s/step - accuracy: 0.9663 - loss: 0.7353 - val_accuracy: 0.5750 - val_loss: 1.9968 - learning_rate: 1.0000e-04\n",
      "Epoch 81/100\n",
      "\u001b[1m2/2\u001b[0m \u001b[32m━━━━━━━━━━━━━━━━━━━━\u001b[0m\u001b[37m\u001b[0m \u001b[1m0s\u001b[0m 5s/step - accuracy: 0.9874 - loss: 0.6967\n",
      "Epoch 81: val_accuracy did not improve from 0.62500\n",
      "\u001b[1m2/2\u001b[0m \u001b[32m━━━━━━━━━━━━━━━━━━━━\u001b[0m\u001b[37m\u001b[0m \u001b[1m18s\u001b[0m 9s/step - accuracy: 0.9887 - loss: 0.6944 - val_accuracy: 0.5850 - val_loss: 1.9480 - learning_rate: 1.0000e-04\n",
      "Epoch 82/100\n",
      "\u001b[1m2/2\u001b[0m \u001b[32m━━━━━━━━━━━━━━━━━━━━\u001b[0m\u001b[37m\u001b[0m \u001b[1m0s\u001b[0m 5s/step - accuracy: 0.9825 - loss: 0.7061\n",
      "Epoch 82: val_accuracy did not improve from 0.62500\n",
      "\u001b[1m2/2\u001b[0m \u001b[32m━━━━━━━━━━━━━━━━━━━━\u001b[0m\u001b[37m\u001b[0m \u001b[1m18s\u001b[0m 9s/step - accuracy: 0.9850 - loss: 0.6999 - val_accuracy: 0.5950 - val_loss: 1.9189 - learning_rate: 1.0000e-04\n",
      "Epoch 83/100\n",
      "\u001b[1m2/2\u001b[0m \u001b[32m━━━━━━━━━━━━━━━━━━━━\u001b[0m\u001b[37m\u001b[0m \u001b[1m0s\u001b[0m 5s/step - accuracy: 0.9835 - loss: 0.7061\n",
      "Epoch 83: val_accuracy did not improve from 0.62500\n",
      "\u001b[1m2/2\u001b[0m \u001b[32m━━━━━━━━━━━━━━━━━━━━\u001b[0m\u001b[37m\u001b[0m \u001b[1m18s\u001b[0m 9s/step - accuracy: 0.9850 - loss: 0.7014 - val_accuracy: 0.5950 - val_loss: 1.9102 - learning_rate: 1.0000e-04\n",
      "Epoch 84/100\n",
      "\u001b[1m2/2\u001b[0m \u001b[32m━━━━━━━━━━━━━━━━━━━━\u001b[0m\u001b[37m\u001b[0m \u001b[1m0s\u001b[0m 5s/step - accuracy: 0.9894 - loss: 0.6912\n",
      "Epoch 84: val_accuracy did not improve from 0.62500\n",
      "\u001b[1m2/2\u001b[0m \u001b[32m━━━━━━━━━━━━━━━━━━━━\u001b[0m\u001b[37m\u001b[0m \u001b[1m18s\u001b[0m 9s/step - accuracy: 0.9887 - loss: 0.6910 - val_accuracy: 0.5950 - val_loss: 1.9129 - learning_rate: 1.0000e-04\n",
      "Epoch 85/100\n",
      "\u001b[1m2/2\u001b[0m \u001b[32m━━━━━━━━━━━━━━━━━━━━\u001b[0m\u001b[37m\u001b[0m \u001b[1m0s\u001b[0m 5s/step - accuracy: 0.9890 - loss: 0.6871\n",
      "Epoch 85: val_accuracy did not improve from 0.62500\n",
      "\u001b[1m2/2\u001b[0m \u001b[32m━━━━━━━━━━━━━━━━━━━━\u001b[0m\u001b[37m\u001b[0m \u001b[1m18s\u001b[0m 9s/step - accuracy: 0.9900 - loss: 0.6867 - val_accuracy: 0.6050 - val_loss: 1.9106 - learning_rate: 1.0000e-04\n",
      "Epoch 86/100\n",
      "\u001b[1m2/2\u001b[0m \u001b[32m━━━━━━━━━━━━━━━━━━━━\u001b[0m\u001b[37m\u001b[0m \u001b[1m0s\u001b[0m 5s/step - accuracy: 0.9861 - loss: 0.6861\n",
      "Epoch 86: val_accuracy did not improve from 0.62500\n",
      "\u001b[1m2/2\u001b[0m \u001b[32m━━━━━━━━━━━━━━━━━━━━\u001b[0m\u001b[37m\u001b[0m \u001b[1m17s\u001b[0m 9s/step - accuracy: 0.9862 - loss: 0.6861 - val_accuracy: 0.5900 - val_loss: 1.9065 - learning_rate: 1.0000e-04\n"
     ]
    }
   ],
   "source": [
    "reduce_lr = ReduceLROnPlateau(monitor='val_loss', factor=0.1,patience=10, min_lr=0.00001)\n",
    "\n",
    "early_stopping = EarlyStopping(monitor='val_loss',patience=20, restore_best_weights=True)\n",
    "\n",
    "checkpoint_path = 'C:/Users/chundie/Desktop/pfa fatima/best_model.h5'\n",
    "\n",
    "checkpoint = ModelCheckpoint(checkpoint_path, monitor='val_accuracy',save_best_only=True, mode='max', verbose=1)\n",
    "\n",
    "history = model.fit(x_train, y_train, epochs=100,batch_size=500, validation_split=0.2,callbacks=[reduce_lr,early_stopping, checkpoint])"
   ]
  },
  {
   "cell_type": "code",
   "execution_count": 57,
   "id": "59cb4b92",
   "metadata": {},
   "outputs": [
    {
     "name": "stdout",
     "output_type": "stream",
     "text": [
      "\u001b[1m30/30\u001b[0m \u001b[32m━━━━━━━━━━━━━━━━━━━━\u001b[0m\u001b[37m\u001b[0m \u001b[1m16s\u001b[0m 536ms/step - accuracy: 0.6000 - loss: 1.6985\n",
      "Accuracy sur l’ensemble de test : 0.6000000238418579\n"
     ]
    }
   ],
   "source": [
    "test_loss, test_acc = model.evaluate(x_test, y_test)\n",
    "print(\"Accuracy sur l’ensemble de test :\", test_acc)\n"
   ]
  },
  {
   "cell_type": "code",
   "execution_count": 58,
   "id": "42824c22",
   "metadata": {},
   "outputs": [
    {
     "data": {
      "image/png": "[encoded data removed]",
      "text/plain": [
       "<Figure size 640x480 with 1 Axes>"
      ]
     },
     "metadata": {},
     "output_type": "display_data"
    }
   ],
   "source": [
    "history_dict = history.history\n",
    "loss_values = history_dict[\"loss\"]\n",
    "val_loss_values = history_dict[\"val_loss\"]\n",
    "epochs = range(1, len(loss_values) + 1)\n",
    "\n",
    "plt.plot(epochs, loss_values, \"r\", label=\"Training loss\")\n",
    "plt.plot(epochs, val_loss_values, \"bo\", label=\"Validation loss\")\n",
    "plt.title(\"Training and validation loss\")\n",
    "plt.xlabel(\"Epochs\")\n",
    "plt.ylabel(\"Loss\")\n",
    "plt.legend()\n",
    "plt.show()"
   ]
  },
  {
   "cell_type": "code",
   "execution_count": 59,
   "id": "181773c4",
   "metadata": {},
   "outputs": [
    {
     "data": {
      "image/png": "[encoded data removed]",
      "text/plain": [
       "<Figure size 640x480 with 1 Axes>"
      ]
     },
     "metadata": {},
     "output_type": "display_data"
    }
   ],
   "source": [
    "history_dict = history.history\n",
    "history_dict.keys()\n",
    "import matplotlib.pyplot as plt\n",
    "history_dict = history.history\n",
    "loss_values = history_dict[\"accuracy\"]\n",
    "val_loss_values = history_dict[\"val_accuracy\"]\n",
    "epochs = range(1, len(loss_values) + 1)\n",
    "plt.plot(epochs, loss_values, \"b\", label=\"Training accuracy\")\n",
    "plt.plot(epochs, val_loss_values, \"bo\", label=\"Validation accuracy\")\n",
    "plt.title(\"Training and validation accuracy\")\n",
    "plt.xlabel(\"Epochs\")\n",
    "plt.ylabel(\"Loss\")\n",
    "plt.legend()\n",
    "plt.show()"
   ]
  },
  {
   "cell_type": "code",
   "execution_count": 61,
   "id": "c3af1379",
   "metadata": {},
   "outputs": [
    {
     "name": "stdout",
     "output_type": "stream",
     "text": [
      "\u001b[1m30/30\u001b[0m \u001b[32m━━━━━━━━━━━━━━━━━━━━\u001b[0m\u001b[37m\u001b[0m \u001b[1m16s\u001b[0m 511ms/step\n",
      "y_pred shape: (960,)\n",
      "y_test shape: (960,)\n",
      "** Confusion Matrix **\n"
     ]
    },
    {
     "data": {
      "image/png": "[encoded data removed]",
      "text/plain": [
       "<Figure size 640x480 with 2 Axes>"
      ]
     },
     "metadata": {},
     "output_type": "display_data"
    },
    {
     "name": "stdout",
     "output_type": "stream",
     "text": [
      "** Accuracy globale **: 0.6\n",
      "** Precision globale **: 0.4754927510109006\n",
      "** Recall globale **: 0.3598267009835292\n",
      "** Classification Report **\n",
      "              precision    recall  f1-score   support\n",
      "\n",
      "     Class 0       0.71      0.03      0.06       148\n",
      "     Class 1       0.00      0.00      0.00         4\n",
      "     Class 2       0.72      0.72      0.72       499\n",
      "     Class 3       0.46      0.69      0.55       309\n",
      "\n",
      "    accuracy                           0.60       960\n",
      "   macro avg       0.48      0.36      0.33       960\n",
      "weighted avg       0.64      0.60      0.56       960\n",
      "\n"
     ]
    },
    {
     "name": "stderr",
     "output_type": "stream",
     "text": [
      "c:\\Users\\chundie\\AppData\\Local\\Programs\\Python\\Python312\\Lib\\site-packages\\sklearn\\metrics\\_classification.py:1731: UndefinedMetricWarning: Precision is ill-defined and being set to 0.0 in labels with no predicted samples. Use `zero_division` parameter to control this behavior.\n",
      "  _warn_prf(average, modifier, f\"{metric.capitalize()} is\", result.shape[0])\n",
      "c:\\Users\\chundie\\AppData\\Local\\Programs\\Python\\Python312\\Lib\\site-packages\\sklearn\\metrics\\_classification.py:1731: UndefinedMetricWarning: Precision is ill-defined and being set to 0.0 in labels with no predicted samples. Use `zero_division` parameter to control this behavior.\n",
      "  _warn_prf(average, modifier, f\"{metric.capitalize()} is\", result.shape[0])\n",
      "c:\\Users\\chundie\\AppData\\Local\\Programs\\Python\\Python312\\Lib\\site-packages\\sklearn\\metrics\\_classification.py:1731: UndefinedMetricWarning: Precision is ill-defined and being set to 0.0 in labels with no predicted samples. Use `zero_division` parameter to control this behavior.\n",
      "  _warn_prf(average, modifier, f\"{metric.capitalize()} is\", result.shape[0])\n",
      "c:\\Users\\chundie\\AppData\\Local\\Programs\\Python\\Python312\\Lib\\site-packages\\sklearn\\metrics\\_classification.py:1731: UndefinedMetricWarning: Precision is ill-defined and being set to 0.0 in labels with no predicted samples. Use `zero_division` parameter to control this behavior.\n",
      "  _warn_prf(average, modifier, f\"{metric.capitalize()} is\", result.shape[0])\n"
     ]
    }
   ],
   "source": [
    "from sklearn.metrics import classification_report, confusion_matrix, precision_score, accuracy_score, recall_score\n",
    "from sklearn.metrics import ConfusionMatrixDisplay\n",
    "import matplotlib.pyplot as plt\n",
    "import numpy as np\n",
    "\n",
    "# predictions\n",
    "predictions = model.predict(x_test)\n",
    "y_pred = np.argmax(predictions, axis=1)\n",
    "\n",
    "print(\"y_pred shape:\", y_pred.shape)\n",
    "print(\"y_test shape:\", y_test.shape)\n",
    "\n",
    "# Confusion Matrix\n",
    "print(\"** Confusion Matrix **\")\n",
    "cm = confusion_matrix(y_test, y_pred)\n",
    "disp = ConfusionMatrixDisplay(confusion_matrix=cm)\n",
    "disp.plot(cmap=\"Blues\")\n",
    "plt.show()\n",
    "\n",
    "# Scores globaux\n",
    "print(\"** Accuracy globale **:\", accuracy_score(y_test, y_pred))\n",
    "print(\"** Precision globale **:\", precision_score(y_test, y_pred, average='macro'))\n",
    "print(\"** Recall globale **:\", recall_score(y_test, y_pred, average='macro'))\n",
    "\n",
    "# Rapport détaillé par class\n",
    "print(\"** Classification Report **\")\n",
    "print(classification_report(y_test, y_pred, target_names=[\"Class 0\", \"Class 1\", \"Class 2\", \"Class 3\"]))"
   ]
  }
 ],
 "metadata": {
  "kernelspec": {
   "display_name": "Python 3",
   "language": "python",
   "name": "python3"
  },
  "language_info": {
   "codemirror_mode": {
    "name": "ipython",
    "version": 3
   },
   "file_extension": ".py",
   "mimetype": "text/x-python",
   "name": "python",
   "nbconvert_exporter": "python",
   "pygments_lexer": "ipython3",
   "version": "3.12.0"
  }
 },
 "nbformat": 4,
 "nbformat_minor": 5
}
